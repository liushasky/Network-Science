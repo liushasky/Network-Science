{
 "cells": [
  {
   "cell_type": "markdown",
   "metadata": {},
   "source": [
    "## Welcome to Assignment 10\n",
    "You could use Louvain from `python-louvain` package and Label propagation from `NetworkX`. "
   ]
  },
  {
   "cell_type": "markdown",
   "metadata": {},
   "source": [
    "## Q1. Write a program that, given a value of the expected external degree $⟨k^{ext}⟩$ in input, generates a GN benchmark. Follow these steps:\n",
    "* Assign labels to nodes in the same group. So, nodes 0 through 31 have label c1, nodes 32 through 63 have c2, nodes 64 through 95 have c3, and nodes 96 through 127 have c4.  \n",
    "* Calculate the probabilities pext = $⟨k^{ext}⟩$/96 and pint = (16 − $⟨k^{ext}⟩$)/31.  \n",
    "* Loop over all pairs of nodes. If two nodes have the same label, i.e., they are in the same group, add a link with probability pint, otherwise with probability pext.\n"
   ]
  },
  {
   "cell_type": "code",
   "execution_count": null,
   "metadata": {},
   "outputs": [],
   "source": []
  },
  {
   "cell_type": "markdown",
   "metadata": {},
   "source": [
    "## Q2. Louvain algorithm & Label propagation (asyn)\n",
    "Test the two community algorithms on the GN benchmark (Q1).   \n",
    "Use the following values for the expected external degree of the GN benchmark: $⟨k^{ext}⟩$ = 2, 4, 6, 8, 10, 12, 14.   \n",
    "\n",
    "* For each value, generate ten different configurations of the benchmark and apply the Louvain algorithm on each of them. \n",
    "* Use the normalized mutual information to compute the similarity of each partition to the planted partition of the benchmark.   \n",
    "* Calculate the average and the standard deviation of the similarity over the ten realizations and plot the average as a function of $⟨k^{ext}⟩$, using the standard deviation for error bars. \n",
    "* Then do the previous three steps again for asynchronous Label propapation. \n",
    "\n",
    "\n",
    "**Compare the findings of Louvain and Label propagation. What do you observe? Why?**"
   ]
  },
  {
   "cell_type": "code",
   "execution_count": null,
   "metadata": {},
   "outputs": [],
   "source": []
  },
  {
   "cell_type": "markdown",
   "metadata": {},
   "source": [
    "## Q3. Communities vs Erd ̋os-R ́enyi random networks\n",
    "Create 10 different **Erd ̋os-R ́enyi random networks** with N = 1000 nodes and L = 5000, 10,000, 15,000, 20,000, 25,000, and 30,000 links.   \n",
    "\n",
    "**Apply the Louvain algorithm to each network.** \n",
    "* Check the modularity values of the resulting partitions: are they close to zero? \n",
    "* Plot the average number of communities as a function of the average degree of the random networks: what conclusion does the trend suggest?\n",
    "* Plot the average modularity of the partitions found for each value of L as a function of L (with standard deviation to indicate the error).  \n",
    "\n",
    "**Label propagation (asyn)**\n",
    "* Determine the average number of clusters as a function of L with label propagation (asyn) and compare the curve with the one from Louvain."
   ]
  },
  {
   "cell_type": "code",
   "execution_count": null,
   "metadata": {},
   "outputs": [],
   "source": []
  },
  {
   "cell_type": "markdown",
   "metadata": {},
   "source": [
    "## Q4. Communities vs Barabasi-Albert networks\n",
    "Create 10 different **Barabasi-Albert networks** with N=1000 and m =2, 5, 10, 15, 20, 50.  \n",
    "\n",
    "**Apply the Louvain algorithm to each network.** \n",
    "* Check the modularity values of the resulting partitions: are they close to zero? \n",
    "* Plot the average number of communities as a function of the average degree of the random networks: what conclusion does the trend suggest?\n",
    "* Plot the average modularity of the partitions found for each value of m as a function of m (with standard deviation to indicate the error).  \n",
    "\n",
    "**Label propagation (asyn)**\n",
    "* Determine the average number of clusters as a function of m with label propagation (asyn) and compare the curve with the one from Louvain.\n",
    " "
   ]
  },
  {
   "cell_type": "code",
   "execution_count": null,
   "metadata": {},
   "outputs": [],
   "source": []
  }
 ],
 "metadata": {
  "kernelspec": {
   "display_name": "Python 3",
   "language": "python",
   "name": "python3"
  },
  "language_info": {
   "codemirror_mode": {
    "name": "ipython",
    "version": 3
   },
   "file_extension": ".py",
   "mimetype": "text/x-python",
   "name": "python",
   "nbconvert_exporter": "python",
   "pygments_lexer": "ipython3",
   "version": "3.7.3"
  }
 },
 "nbformat": 4,
 "nbformat_minor": 4
}
