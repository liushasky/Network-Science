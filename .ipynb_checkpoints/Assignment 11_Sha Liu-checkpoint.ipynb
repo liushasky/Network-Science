{
 "cells": [
  {
   "cell_type": "markdown",
   "metadata": {},
   "source": [
    "# Welcome to assignment 11\n"
   ]
  },
  {
   "cell_type": "markdown",
   "metadata": {},
   "source": [
    "## Q1. SIS model\n",
    "Consider SIS model dynamics on a population. Suppose that a fraction f of the population never gets sick and that such immune individuals are randomly distributed in a homogeneous contact network (all nodes have similar degree). \n",
    "* Is the risk of epidemic spreading bigger or smaller than in the pure SIS model, for which f = 0? \n",
    "* Would the answer change if we considered SIR instead? Use the condition of Eq. 7.5 (See textbook)."
   ]
  },
  {
   "cell_type": "code",
   "execution_count": 1,
   "metadata": {},
   "outputs": [],
   "source": [
    "# Answer for SIS model"
   ]
  },
  {
   "cell_type": "markdown",
   "metadata": {},
   "source": [
    "When f > 0, some people are immune and it means people from compartment S to I is limited, thus the size of epidemic spreading is limited too.  When f = 0, it means that no one is immune, therefore, the risk of epidemic spreading is bigger in the pure SIS model. Please see fomular proof below:\n",
    "\n",
    "If there is f of the population never gets sick, then the new expected number of people infected would be (𝛽 * (1-f))/𝜇) * k.\n",
    "\n",
    "We know that k, 𝛽 and 𝜇 do not change, 0 < f < 1, so 1-f > 0\n",
    "\n",
    "When f > 0, then (𝛽 * (1-f))/𝜇) * k would be smaller compared with f = 0.\n",
    "\n",
    "Therefore, the risk of epidemic spreading is smaller than in the pure SIS model when f = 0."
   ]
  },
  {
   "cell_type": "code",
   "execution_count": 2,
   "metadata": {},
   "outputs": [],
   "source": [
    "# Answer for SIR model"
   ]
  },
  {
   "cell_type": "markdown",
   "metadata": {},
   "source": [
    "The answer would not change if we considered SIR instead. In the SIR model, when infected individuals recover, they do not become susceptible again, but they are moved to the compartment R and play no further role in the dynamics with the assumption that the recovered have lifelong immunity. Therefore the risk of epedemic spreading is smaller than the pure SIS model for which f = 0.\n",
    "\n",
    "If there is f of the population never gets sick, then the new expected number of people infected would be (𝛽 * (1-f))/𝜇) * k.\n",
    "\n",
    "We know that k, 𝛽 and 𝜇 do not change, 0 < f < 1, so 1-f > 0\n",
    "\n",
    "When f > 0, then (𝛽 * (1-f))/𝜇) * k would be smaller compared with f = 0.\n",
    "\n",
    "Therefore, the risk of epidemic spreading is smaller than in the pure SIR model when f = 0."
   ]
  },
  {
   "cell_type": "markdown",
   "metadata": {},
   "source": [
    "## Q2. Epidemic outbreak\n",
    "There is an epidemic outbreak and after a quick verification it turns out that the basic reproduction number is R0 = 2.5, so we are heading towards an epidemic spread (assume that the contact network is homogeneous). The authorities urge the population to limit their contacts with other people, so that, on average, each individual gets in touch with about half the usual number of people. Suppose that doctors are capable of developing medicines that can significantly increase the recovery rate μ. \n",
    "* How much does μ have to increase so that the epidemics can be stopped?"
   ]
  },
  {
   "cell_type": "markdown",
   "metadata": {},
   "source": [
    "We know now R0 = (𝛽/𝜇) * k = 2.5, and 𝛽 does not change. \n",
    "\n",
    "So 𝛽 = (2.5*𝜇) / k\n",
    "\n",
    "After the authorizations limit the contacts within people, we assume that the there will be a new k1 and new 𝜇1\n",
    "\n",
    "As each individual gets in touch with about half the usual number of people, it means that k1 = (1/2)k.\n",
    "\n",
    "If (𝛽/𝜇1) * k1  < 1, the epidemic can be stopped. \n",
    "\n",
    "Then we set (𝛽/𝜇1) * k1  = 1\n",
    "\n",
    "Then (𝛽/𝜇1) * k * (1/2)  = 1\n",
    "\n",
    "then 𝛽 = 2𝜇1 / k\n",
    "\n",
    "As 𝛽 does not change, then 2𝜇1 / k = (2.5*𝜇) / k\n",
    "\n",
    "Then 𝜇1 = 1.25𝜇\n",
    "\n",
    "Then increase is 𝜇1 - 𝜇 = 1.25𝜇 - 𝜇 = 0.25𝜇\n",
    "\n",
    "Therefore, μ have to increase at least 25% so that the epidemics can be stopped."
   ]
  },
  {
   "cell_type": "markdown",
   "metadata": {},
   "source": [
    "## Q3.  SIR on Random network\n",
    "Simulate the SIR dynamics on a random network（gnp） with N = 1000 nodes and link probability p = 0.01. Initially ten nodes are infected, chosen at random. The probability of recovery is μ = 0.5. \n",
    "* Run the dynamics for these values of the infection probability: β = 0.02, 0.05, 0.1, 0.2. \n",
    "* In each run, save the number of simultaneously infected people after each iteration and calculate the maximum value. \n",
    "* Interpret the results. How many iterations are needed to reach the maximum? Do you observe a major outbreak? Why or why not? "
   ]
  },
  {
   "cell_type": "code",
   "execution_count": 3,
   "metadata": {},
   "outputs": [],
   "source": [
    "%matplotlib inline\n",
    "import matplotlib.pyplot as plt\n",
    "import networkx as nx\n",
    "import random\n",
    "from simulation import Simulation\n",
    "import string\n",
    "from networkx import grid_graph\n",
    "from collections import Counter\n",
    "import collections\n",
    "import itertools \n",
    "import seaborn as sns\n",
    "sns.set_style('dark')"
   ]
  },
  {
   "cell_type": "code",
   "execution_count": 4,
   "metadata": {},
   "outputs": [],
   "source": [
    "# initial state\n",
    "def initial_state(G):\n",
    "    state = {}\n",
    "    for node in G.nodes:\n",
    "        state[node] = 'S'\n",
    "    \n",
    "    patient_zero_list = random.sample(list(G.nodes), 10)\n",
    "    for patient_zero in patient_zero_list:\n",
    "        state[patient_zero] = 'I'\n",
    "    return state\n",
    "\n",
    "# state transition\n",
    "def state_transition(G, current_state):\n",
    "    next_state = current_state.copy()\n",
    "    MU = 0.5\n",
    "    for node in G.nodes:\n",
    "        if current_state[node] == 'I':\n",
    "            if random.random() < MU:\n",
    "                next_state[node] = 'R'\n",
    "                \n",
    "        if current_state[node] == 'S':\n",
    "            for neighbor in G.neighbors(node):\n",
    "                \n",
    "                # if neighbor is infected, with BETA probablity to R\n",
    "                if current_state[neighbor] == 'I':\n",
    "                    if random.random() < BETA:\n",
    "                        next_state[node] = 'I'     \n",
    "    return next_state"
   ]
  },
  {
   "cell_type": "code",
   "execution_count": 5,
   "metadata": {},
   "outputs": [],
   "source": [
    "def SIR_sim(BETA, MU):\n",
    "    G = nx.gnp_random_graph(1000,.01)\n",
    "\n",
    "    # save initial state as current state\n",
    "    current_state = initial_state(G)\n",
    "  \n",
    "    # set threshold to false\n",
    "    threshold = False\n",
    "    infected_dict = {}\n",
    "    \n",
    "    iters = 1\n",
    "\n",
    "    while not threshold:\n",
    "        # get new state and simultaneously effected people\n",
    "        new_state = state_transition(G, current_state)\n",
    "\n",
    "        infected = list(new_state.values()).count(\"I\")\n",
    "        \n",
    "        # append infected_dict\n",
    "        infected_dict[iters] = infected\n",
    "        \n",
    "        # threshold check\n",
    "        threshold = current_state == new_state\n",
    "\n",
    "        # update current state\n",
    "        current_state = new_state\n",
    "\n",
    "        # update iterations\n",
    "        iters += 1\n",
    "\n",
    "    return infected_dict"
   ]
  },
  {
   "cell_type": "code",
   "execution_count": 6,
   "metadata": {},
   "outputs": [
    {
     "name": "stdout",
     "output_type": "stream",
     "text": [
      "When beta euqals 0.02, there are 8 max simultaneously infected people are at iteration 1\n",
      "When beta euqals 0.05, there are 6 max simultaneously infected people are at iteration 1\n",
      "When beta euqals 0.1, there are 133 max simultaneously infected people are at iteration 13\n",
      "When beta euqals 0.2, there are 375 max simultaneously infected people are at iteration 5\n"
     ]
    }
   ],
   "source": [
    "BETA_list = [0.02, 0.05, 0.1, 0.2]\n",
    "MU = 0.5\n",
    "for BETA in BETA_list:\n",
    "    sim = SIR_sim(BETA, MU)\n",
    "    max_key = max(sim, key = sim.get)\n",
    "    print(f'When beta euqals {BETA}, there are {sim[max_key]} max simultaneously infected people are at iteration {max_key}')"
   ]
  },
  {
   "cell_type": "markdown",
   "metadata": {},
   "source": [
    "Per results above, we can see that as beta increases, the max simultaneously infected people increases as well. I did not observe an outbreak as it only need around 10 interations to reach the max simultaneously infected people, and it is only a small portion of the total population of 1000. It is because MU is equal to 0.5, which means the recover rate is quite high. "
   ]
  },
  {
   "cell_type": "markdown",
   "metadata": {},
   "source": [
    "## Q4.  Social influence\n",
    "In a community there are three kinds of people: frustrated (S), aggressive (I), and peaceful (R). When a frustrated individual meets an aggressive one, they become aggressive with probability β. When an aggressive individual meets a peaceful one, they become peaceful with probability α. When two aggressive people meet each other, they start to argue. But with probability α, they realize after a while that fighting is futile, and so they both turn peaceful.\n",
    "* Can a major spread in aggressive behaviors be prevented by a small value of β?"
   ]
  },
  {
   "cell_type": "markdown",
   "metadata": {},
   "source": [
    "Yes, it can be prevented.\n",
    "\n",
    "Let's assume that β is so small that close to zero. then would be almost none frustrated (S) compartment truning into aggressive (I) compartment. Additionally, when two aggressive people meet each other, they start to argue. And with probability α, they would both turn peaceful in the end. Eventually almost all aggressive (I) people would move into peaceful (R) compartment. Therefore, the major spread in aggressive behaviors be prevented by a small value of β."
   ]
  },
  {
   "cell_type": "markdown",
   "metadata": {},
   "source": [
    "## Q5. Opinion dynamics\n",
    "Simulate the majority opinion dynamics on a square grid with N = 20×20 = 400 nodes. Initially assign each of two opinions to half of the nodes chosen at random. Execute 100 runs with different initial random assignments, until the system gets to a stationary state. \n",
    "* How many runs lead to consensus? Create a histogram of the proportion of opinion one in the non-consensus stationary states. \n",
    "* Create a histogram of the fraction of active links in those configurations. (Active links are links whose endpoints are in different opinion states. The fraction of active links is the ratio between the number of active links and the total number of links in the network.)"
   ]
  },
  {
   "cell_type": "code",
   "execution_count": 7,
   "metadata": {},
   "outputs": [],
   "source": [
    "# initial state\n",
    "def initial_state(G):\n",
    "    state = {}\n",
    "    for node in G.nodes:\n",
    "        state[node] = random.choice([0, 1])\n",
    "    return state\n",
    "\n",
    "# transition state\n",
    "def state_transition(G, current_state):\n",
    "    current_state = current_state.copy()\n",
    "    # Randomizing the update order prevents bias\n",
    "    nodes_to_update = list(G.nodes)\n",
    "    random.shuffle(nodes_to_update)\n",
    "    \n",
    "    for node in nodes_to_update:\n",
    "        if G.degree(node) > 0:\n",
    "            neighbor = random.choice(list(G.neighbors(node)))\n",
    "            \n",
    "            # get neighbor list from the current state\n",
    "            neighbor_opinion = [current_state[neighbor] for neighbor in list(G.neighbors(node))]\n",
    "\n",
    "            # count of ones\n",
    "            ones = neighbor_opinion.count(1)\n",
    "\n",
    "            # count of zeros\n",
    "            zeros = neighbor_opinion.count(0)\n",
    "            \n",
    "            # majority vote\n",
    "            if ones > zeros:\n",
    "                current_state[node] = 1\n",
    "            \n",
    "            elif zeros > ones:\n",
    "                current_state[node] = 0\n",
    "                \n",
    "            # If the number of neighbors is even and there is an equal number of them with either opinion\n",
    "            else:\n",
    "                if random.random() < 0.5:\n",
    "                    current_state[node] = 1\n",
    "                else:\n",
    "                    current_state[node] = 0\n",
    "\n",
    "    return current_state"
   ]
  },
  {
   "cell_type": "code",
   "execution_count": 8,
   "metadata": {},
   "outputs": [],
   "source": [
    "def major_sim(G):\n",
    "    # save initial state as current state\n",
    "    current_state = initial_state(G)\n",
    "\n",
    "    # set threshold to false\n",
    "    threshold = False\n",
    "    iters = 0\n",
    "    \n",
    "    # store all states\n",
    "    all_states = {}\n",
    "\n",
    "    while not threshold:\n",
    "        new_state = state_transition(G, current_state)\n",
    "        \n",
    "        # threshold check\n",
    "        threshold = current_state == new_state\n",
    "\n",
    "        # update current state to the new state\n",
    "        current_state = new_state\n",
    "        \n",
    "        # append current state to the all_states list\n",
    "#         all_states.append(current_state)\n",
    "        all_states[iters] = current_state\n",
    "        \n",
    "        # update iterations\n",
    "        iters += 1\n",
    "    return all_states, threshold"
   ]
  },
  {
   "cell_type": "markdown",
   "metadata": {},
   "source": [
    "## Try 100 runs simulation until it reaches consensus state"
   ]
  },
  {
   "cell_type": "code",
   "execution_count": 9,
   "metadata": {
    "scrolled": false
   },
   "outputs": [
    {
     "name": "stdout",
     "output_type": "stream",
     "text": [
      "Number of iterations to reach consensus per each simulation [135, 21, 60, 35, 69, 72, 41, 36, 34, 22, 66, 28, 106, 33, 228, 101, 52, 32, 130, 68, 48, 35, 47, 33, 35, 106, 31, 82, 36, 18, 31, 108, 194, 53, 37, 106, 85, 41, 62, 28, 44, 122, 32, 20, 34, 100, 75, 78, 80, 234, 37, 75, 76, 67, 30, 35, 117, 160, 47, 53, 35, 56, 42, 61, 81, 52, 30, 39, 46, 84, 70, 21, 67, 73, 41, 86, 52, 76, 54, 82, 26, 35, 33, 50, 37, 85, 106, 57, 49, 30, 43, 80, 78, 139, 20, 73, 116, 114, 56, 86]\n"
     ]
    }
   ],
   "source": [
    "num_iterations_to_consensus = []\n",
    "all_states_results = []\n",
    "non_consensus_results = []\n",
    "for i in range(100):\n",
    "    G = grid_graph(dim=(20,20))\n",
    "    all_states, consensus = major_sim(G)\n",
    "    \n",
    "    # append all states to a list\n",
    "    all_states_results.append(all_states)\n",
    "    \n",
    "    # get non_consensus, which is all the states before concensus\n",
    "    # Get first N items in dictionary \n",
    "    N = len(all_states) - 1\n",
    "    non_consensus_list = dict(itertools.islice(all_states.items(), N)) \n",
    "    non_consensus_results.append(non_consensus_list)\n",
    "    \n",
    "    iteration = len(all_states)\n",
    "    num_iterations_to_consensus.append(iteration)\n",
    "print(\"Number of iterations to reach consensus per each simulation\", num_iterations_to_consensus)"
   ]
  },
  {
   "cell_type": "markdown",
   "metadata": {},
   "source": [
    "Per results above, we can see that number of iterations to reach consensus per each run."
   ]
  },
  {
   "cell_type": "code",
   "execution_count": 10,
   "metadata": {},
   "outputs": [],
   "source": [
    "# get all non-consensus stationary states.\n",
    "non_consensus = []\n",
    "for run, state in enumerate(non_consensus_results):\n",
    "    for node, opinion in state.items():\n",
    "        non_consensus.append(list(opinion.values()))"
   ]
  },
  {
   "cell_type": "code",
   "execution_count": 11,
   "metadata": {
    "scrolled": true
   },
   "outputs": [
    {
     "data": {
      "image/png": "[encoded data removed]",
      "text/plain": [
       "<Figure size 432x288 with 1 Axes>"
      ]
     },
     "metadata": {
      "needs_background": "light"
     },
     "output_type": "display_data"
    }
   ],
   "source": [
    "# Create a histogram of the proportion of opinion one in the non-consensus stationary states.\n",
    "ratios = [list(state).count(1)/len(list(state)) for state in non_consensus]\n",
    "fig = plt.hist(ratios)\n",
    "title = plt.title('Non-Consensus States of Ratio of Opinion 1 Distribution')\n",
    "plt.xlabel('Ratio of Opinion 1')\n",
    "plt.ylabel('Count');"
   ]
  },
  {
   "cell_type": "code",
   "execution_count": 12,
   "metadata": {},
   "outputs": [
    {
     "data": {
      "image/png": "[encoded data removed]",
      "text/plain": [
       "<Figure size 432x288 with 1 Axes>"
      ]
     },
     "metadata": {
      "needs_background": "light"
     },
     "output_type": "display_data"
    }
   ],
   "source": [
    "# calculate the active links ratio \n",
    "def get_active_links_ratio(state):\n",
    "    active_links = []\n",
    "    for node, node_state in state.items():\n",
    "        neighbors = list(G.neighbors(node))\n",
    "        for neighbor in neighbors:\n",
    "            if state[neighbor] != node_state:\n",
    "                active_link = (node, neighbor)\n",
    "                active_links.append(active_link)\n",
    "    ratio = len(active_links)/G.number_of_edges()\n",
    "    return ratio\n",
    "\n",
    "# Get a list of active links ratio from the non concensus state\n",
    "active_links_ratio_list = []\n",
    "for run, state in enumerate(all_states_results):\n",
    "    for node, state in state.items():\n",
    "        active_links_ratio = get_active_links_ratio(state)\n",
    "        active_links_ratio_list.append(active_links_ratio)\n",
    "    \n",
    "# Create a histogram of the fraction of active links in those configurations\n",
    "fig = plt.hist(active_links_ratio_list)\n",
    "title = plt.title('Non-Consensus States of Ratio of Active Links Distribution')\n",
    "plt.xlabel('Ratio of Active Links')\n",
    "plt.ylabel('Count');"
   ]
  },
  {
   "cell_type": "markdown",
   "metadata": {},
   "source": [
    "## Q6. Bounded-confidence model of opinion dynamics\n",
    "Simulate the bounded-confidence model of opinion dynamics on a complete network with N = 1000 nodes. The initial opinions are random numbers be- tween zero and one. Consider three different values of the confidence bound: ε = 0.125, 0.25, 0.5. For each ε, use different values for the convergence pa- rameter, say μ = 0.1, 0.3, 0.5.\n",
    "* Run every simulation until each opinion varies by less than 1% between consecutive iterations, and plot a histogram of the final opinions. \n",
    "* Does the number of final opinion clusters depend on ε? Why or why not? Does it depend on μ? Why or why not? "
   ]
  },
  {
   "cell_type": "code",
   "execution_count": 13,
   "metadata": {},
   "outputs": [],
   "source": [
    "# initial state\n",
    "def initial_state(G):\n",
    "    state = {}\n",
    "    for node in G.nodes:\n",
    "        state[node] = random.uniform(0, 1)\n",
    "    return state\n",
    "\n",
    "def state_transition(G, current_state, mu, epsilon):\n",
    "    # copy the current state\n",
    "    next_state = current_state.copy()\n",
    "    \n",
    "    for node in G.nodes:\n",
    "        if G.degree(node) > 0:\n",
    "            neighbor = random.choice(list(G.neighbors(node)))                         \n",
    "            check = abs(current_state[neighbor] - current_state[node]) < epsilon                           \n",
    "            if check:\n",
    "                next_state[node] += mu * (current_state[neighbor] - current_state[node])\n",
    "                next_state[neighbor] += mu * (current_state[node] - current_state[neighbor])\n",
    "                                     \n",
    "    return next_state\n",
    "\n",
    "# define Bounded-confidence model\n",
    "def bounded_confidence(mu, epsilon):\n",
    "    G = nx.complete_graph(1000)\n",
    "    # set current state as the initial state\n",
    "    current_state = initial_state(G)\n",
    "    \n",
    "    # set threshold to false\n",
    "    threshold = False\n",
    "    iter = 0\n",
    "    while not threshold:\n",
    "        current_state_opinions = list(current_state.values())\n",
    "        new_state = state_transition(G, current_state, mu, epsilon)\n",
    "        new_state_opinions = list(new_state.values())\n",
    "        \n",
    "        # threshold\n",
    "        opinion_change = [abs(current_state[node]-new_state[node]) < .01 for node in G.nodes]\n",
    "        threshold = sum(opinion_change) == len(new_state_opinions)\n",
    "\n",
    "        # update to current state\n",
    "        current_state = new_state\n",
    "\n",
    "        iter += 1\n",
    "    \n",
    "    print(f'When mu = {mu}, and e = {epsilon}, it converged after {iter} interations')\n",
    "    return current_state"
   ]
  },
  {
   "cell_type": "code",
   "execution_count": 14,
   "metadata": {},
   "outputs": [
    {
     "name": "stdout",
     "output_type": "stream",
     "text": [
      "When mu = 0.1, and e = 0.125, it converged after 81 interations\n",
      "When mu = 0.1, and e = 0.25, it converged after 53 interations\n",
      "When mu = 0.1, and e = 0.5, it converged after 25 interations\n",
      "When mu = 0.3, and e = 0.125, it converged after 57 interations\n",
      "When mu = 0.3, and e = 0.25, it converged after 29 interations\n",
      "When mu = 0.3, and e = 0.5, it converged after 16 interations\n",
      "When mu = 0.5, and e = 0.125, it converged after 52 interations\n",
      "When mu = 0.5, and e = 0.25, it converged after 57 interations\n",
      "When mu = 0.5, and e = 0.5, it converged after 37 interations\n"
     ]
    }
   ],
   "source": [
    "e =  [.125, 0.25, 0.5]\n",
    "mu =  [0.1, 0.3, 0.5]\n",
    "opinion_dynamics = {}\n",
    "\n",
    "for i in range(len(mu)):\n",
    "    for j in range(len(e)):\n",
    "        opinion_dynamics[(mu[i],e[j])] = bounded_confidence(mu[i],e[j])"
   ]
  },
  {
   "cell_type": "code",
   "execution_count": 15,
   "metadata": {},
   "outputs": [
    {
     "data": {
      "image/png": "[encoded data removed]",
      "text/plain": [
       "<Figure size 1080x1080 with 9 Axes>"
      ]
     },
     "metadata": {
      "needs_background": "light"
     },
     "output_type": "display_data"
    }
   ],
   "source": [
    "counter = 1\n",
    "plt.subplots(3,3,figsize=(15,15))\n",
    "for k, v in opinion_dynamics.items():\n",
    "    label = f'Mu: {k[0]}, Epsilon: {k[1]}'\n",
    "    plt.subplot(3,3,counter)\n",
    "    plt.hist(list(v.values()))\n",
    "    plt.title(label)\n",
    "    counter += 1"
   ]
  },
  {
   "cell_type": "markdown",
   "metadata": {},
   "source": [
    "Per graphs above, we can see that the number of final opinion clusters depend on ε. As ε increases, the confidence bound increases as well. \n",
    "\n",
    "The number of final opinion clusters does not depend on μ, as μ increases, I do not see much changes. When  𝜇  is close to 1/2, the opinons converge to average 1/2 as well."
   ]
  },
  {
   "cell_type": "code",
   "execution_count": null,
   "metadata": {},
   "outputs": [],
   "source": []
  }
 ],
 "metadata": {
  "kernelspec": {
   "display_name": "Python 3",
   "language": "python",
   "name": "python3"
  },
  "language_info": {
   "codemirror_mode": {
    "name": "ipython",
    "version": 3
   },
   "file_extension": ".py",
   "mimetype": "text/x-python",
   "name": "python",
   "nbconvert_exporter": "python",
   "pygments_lexer": "ipython3",
   "version": "3.7.3"
  }
 },
 "nbformat": 4,
 "nbformat_minor": 4
}
