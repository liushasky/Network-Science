{
 "cells": [
  {
   "cell_type": "markdown",
   "metadata": {},
   "source": [
    "# Welcome to Assignment 6\n",
    "# Sha Liu\n"
   ]
  },
  {
   "cell_type": "markdown",
   "metadata": {},
   "source": [
    "### Q1. Compare PageRank distribution\n",
    "**Please read `retweet-digraph.edges` as a directed and unweighted network.**  \n",
    "1. Compute the PageRank distribution over all nodes.\n",
    "2. Select all nodes with in-degree 3 and compute their PageRank distribution. How does it compare with the global distribution of PageRank that we calculated above?\n",
    "3. Plot the average PageRank as a function of in-degree. For that, divide all nodes in in-degree class, where each class includes all nodes with the same in-degree. Compute the average value of PageRank for all nodes in the same class, and plot the average value as a function of in-degree. \n",
    "\n",
    "hint: \n",
    "please use nx.read_weighted_edgelist() first, but don't use the \"weight\" when calculating PageRank."
   ]
  },
  {
   "cell_type": "code",
   "execution_count": 1,
   "metadata": {},
   "outputs": [
    {
     "name": "stdout",
     "output_type": "stream",
     "text": [
      "Name: \n",
      "Type: DiGraph\n",
      "Number of nodes: 18470\n",
      "Number of edges: 48365\n",
      "Average in degree:   2.6186\n",
      "Average out degree:   2.6186\n"
     ]
    }
   ],
   "source": [
    "%matplotlib inline\n",
    "import networkx as nx\n",
    "import numpy as np\n",
    "import pandas as pd\n",
    "import matplotlib.pyplot as plt\n",
    "import seaborn as sns\n",
    "\n",
    "G = nx.read_weighted_edgelist('data/retweet-digraph.edges',create_using=nx.DiGraph)\n",
    "print(nx.info(G))"
   ]
  },
  {
   "cell_type": "code",
   "execution_count": 2,
   "metadata": {},
   "outputs": [
    {
     "data": {
      "text/plain": [
       "18470"
      ]
     },
     "execution_count": 2,
     "metadata": {},
     "output_type": "execute_result"
    }
   ],
   "source": [
    "# Compute the PageRank distribution over all nodes\n",
    "PR_dict = nx.pagerank(G)\n",
    "len(PR_dict)"
   ]
  },
  {
   "cell_type": "code",
   "execution_count": 3,
   "metadata": {},
   "outputs": [
    {
     "name": "stdout",
     "output_type": "stream",
     "text": [
      "Mean PageRank of all nodes: 5.414185165132537e-05\n",
      "Standard deviation of all nodes: 8.088666357608657e-05\n"
     ]
    }
   ],
   "source": [
    "# Use statistics values to compare the distribution\n",
    "import statistics\n",
    "print('Mean PageRank of all nodes:', statistics.mean(PR_dict.values()))\n",
    "print('Standard deviation of all nodes:',statistics.stdev(PR_dict.values()))"
   ]
  },
  {
   "cell_type": "code",
   "execution_count": 4,
   "metadata": {},
   "outputs": [
    {
     "name": "stdout",
     "output_type": "stream",
     "text": [
      "Mean PageRank of nodes with in-degree 3: 5.680615259546695e-05\n",
      "Standard deviation of nodes with in-degree 3: 3.306290380322567e-05\n"
     ]
    }
   ],
   "source": [
    "# Select all nodes with in-degree 3 and compute their PageRank distribution\n",
    "in_degree_3_sequence = [n for n in G.nodes if G.in_degree(n) == 3]\n",
    "pageRank_in_degree_3_sequence = []\n",
    "for n in in_degree_3_sequence:\n",
    "    page_rank = PR_dict[n]\n",
    "    pageRank_in_degree_3_sequence.append(page_rank)\n",
    "\n",
    "# Use statistics values to compare the distribution\n",
    "print('Mean PageRank of nodes with in-degree 3:', statistics.mean(pageRank_in_degree_3_sequence))\n",
    "print('Standard deviation of nodes with in-degree 3:',statistics.stdev(pageRank_in_degree_3_sequence))"
   ]
  },
  {
   "cell_type": "code",
   "execution_count": 5,
   "metadata": {},
   "outputs": [
    {
     "data": {
      "text/plain": [
       "True"
      ]
     },
     "execution_count": 5,
     "metadata": {},
     "output_type": "execute_result"
    }
   ],
   "source": [
    "statistics.mean(PR_dict.values()) < statistics.mean(pageRank_in_degree_3_sequence)"
   ]
  },
  {
   "cell_type": "code",
   "execution_count": 6,
   "metadata": {},
   "outputs": [
    {
     "data": {
      "text/plain": [
       "False"
      ]
     },
     "execution_count": 6,
     "metadata": {},
     "output_type": "execute_result"
    }
   ],
   "source": [
    "statistics.stdev(PR_dict.values()) < statistics.stdev(pageRank_in_degree_3_sequence)"
   ]
  },
  {
   "cell_type": "markdown",
   "metadata": {},
   "source": [
    "Per above, we can see that the mean of 3 in_degrees pagerank is larger than the mean of all nodes pagerank, and the standard deviation of 3 in_degrees pagerank is smaller than the standard deviation  of all nodes pagerank."
   ]
  },
  {
   "cell_type": "code",
   "execution_count": 7,
   "metadata": {
    "scrolled": true
   },
   "outputs": [
    {
     "data": {
      "text/html": [
       "<div>\n",
       "<style scoped>\n",
       "    .dataframe tbody tr th:only-of-type {\n",
       "        vertical-align: middle;\n",
       "    }\n",
       "\n",
       "    .dataframe tbody tr th {\n",
       "        vertical-align: top;\n",
       "    }\n",
       "\n",
       "    .dataframe thead th {\n",
       "        text-align: right;\n",
       "    }\n",
       "</style>\n",
       "<table border=\"1\" class=\"dataframe\">\n",
       "  <thead>\n",
       "    <tr style=\"text-align: right;\">\n",
       "      <th></th>\n",
       "      <th>in-degree</th>\n",
       "      <th>Avg_PageRank</th>\n",
       "    </tr>\n",
       "  </thead>\n",
       "  <tbody>\n",
       "    <tr>\n",
       "      <td>0</td>\n",
       "      <td>0</td>\n",
       "      <td>0.000035</td>\n",
       "    </tr>\n",
       "    <tr>\n",
       "      <td>1</td>\n",
       "      <td>1</td>\n",
       "      <td>0.000040</td>\n",
       "    </tr>\n",
       "    <tr>\n",
       "      <td>2</td>\n",
       "      <td>2</td>\n",
       "      <td>0.000050</td>\n",
       "    </tr>\n",
       "    <tr>\n",
       "      <td>3</td>\n",
       "      <td>3</td>\n",
       "      <td>0.000057</td>\n",
       "    </tr>\n",
       "    <tr>\n",
       "      <td>4</td>\n",
       "      <td>4</td>\n",
       "      <td>0.000064</td>\n",
       "    </tr>\n",
       "    <tr>\n",
       "      <td>...</td>\n",
       "      <td>...</td>\n",
       "      <td>...</td>\n",
       "    </tr>\n",
       "    <tr>\n",
       "      <td>92</td>\n",
       "      <td>124</td>\n",
       "      <td>0.000664</td>\n",
       "    </tr>\n",
       "    <tr>\n",
       "      <td>93</td>\n",
       "      <td>137</td>\n",
       "      <td>0.001124</td>\n",
       "    </tr>\n",
       "    <tr>\n",
       "      <td>94</td>\n",
       "      <td>147</td>\n",
       "      <td>0.001449</td>\n",
       "    </tr>\n",
       "    <tr>\n",
       "      <td>95</td>\n",
       "      <td>150</td>\n",
       "      <td>0.003925</td>\n",
       "    </tr>\n",
       "    <tr>\n",
       "      <td>96</td>\n",
       "      <td>204</td>\n",
       "      <td>0.004858</td>\n",
       "    </tr>\n",
       "  </tbody>\n",
       "</table>\n",
       "<p>97 rows × 2 columns</p>\n",
       "</div>"
      ],
      "text/plain": [
       "    in-degree  Avg_PageRank\n",
       "0           0      0.000035\n",
       "1           1      0.000040\n",
       "2           2      0.000050\n",
       "3           3      0.000057\n",
       "4           4      0.000064\n",
       "..        ...           ...\n",
       "92        124      0.000664\n",
       "93        137      0.001124\n",
       "94        147      0.001449\n",
       "95        150      0.003925\n",
       "96        204      0.004858\n",
       "\n",
       "[97 rows x 2 columns]"
      ]
     },
     "execution_count": 7,
     "metadata": {},
     "output_type": "execute_result"
    }
   ],
   "source": [
    "# Plot the average PageRank as a function of in-degree\n",
    "import pandas as pd\n",
    "\n",
    "# create a dataframe of all nodes and in_degrees\n",
    "in_degree_sequence = {n: G.in_degree(n) for n in G.nodes}\n",
    "df_in_degree = pd.DataFrame(list(in_degree_sequence.items()),columns = ['node','in-degree']) \n",
    "\n",
    "# create a dataframe of all nodes and PageRank\n",
    "df_PR = pd.DataFrame(list(PR_dict.items()),columns = ['node','PageRank']) \n",
    "\n",
    "# Merge these two dataframes into one that contains all nodes, PageRank, and in-degrees\n",
    "df_merge = pd.merge(df_PR, df_in_degree, on='node')\n",
    "\n",
    "# Compute the average value of PageRank for all nodes in the same class and create it as a dataframe\n",
    "df_in_degree_PR = df_merge.groupby('in-degree').mean().reset_index()\n",
    "df_in_degree_PR.rename(columns={'PageRank':'Avg_PageRank'}, inplace=True)\n",
    "df_in_degree_PR"
   ]
  },
  {
   "cell_type": "code",
   "execution_count": 8,
   "metadata": {},
   "outputs": [
    {
     "data": {
      "image/png": "[encoded data removed]",
      "text/plain": [
       "<Figure size 432x288 with 1 Axes>"
      ]
     },
     "metadata": {
      "needs_background": "light"
     },
     "output_type": "display_data"
    }
   ],
   "source": [
    "# plot the average value as a function of in-degree.\n",
    "sns.scatterplot(x='in-degree', y='Avg_PageRank', data=df_in_degree_PR)\n",
    "plt.title('Avg PageRank per in-degree Class')\n",
    "plt.xlabel('In-degree')\n",
    "plt.ylabel('Avg Pagerank');"
   ]
  },
  {
   "cell_type": "markdown",
   "metadata": {},
   "source": [
    "### Q2. Filtering links\n",
    "**Now read `c.elegans` as an undirected weighted network.**  \n",
    "1. What is the Pearson correlation coefficient between the degree and the strength of the nodes?  \n",
    "2. Filter the links using the backbone formula discussed in class. Use the values 0.05 and 0.01 for the threshold alpha.\n",
    "Each link gives two values for the baseline probability, one for each of its endpoints. Use the smaller one.\n",
    "\n",
    "3. What is the fraction of edges removed for threshold 0.05 and 0.01?   \n",
    "4. Is the network connected after the filterings?\n",
    "5. Plot the distribution of the weights and the strengths in both cases, and compare them. Explain your answer.\n",
    "\n",
    "\n"
   ]
  },
  {
   "cell_type": "code",
   "execution_count": 9,
   "metadata": {
    "scrolled": true
   },
   "outputs": [
    {
     "name": "stdout",
     "output_type": "stream",
     "text": [
      "Name: \n",
      "Type: Graph\n",
      "Number of nodes: 297\n",
      "Number of edges: 2148\n",
      "Average degree:  14.4646\n"
     ]
    }
   ],
   "source": [
    "G = nx.read_weighted_edgelist('data/celegansneural.edges.txt')\n",
    "print(nx.info(G))"
   ]
  },
  {
   "cell_type": "code",
   "execution_count": 10,
   "metadata": {
    "scrolled": true
   },
   "outputs": [
    {
     "name": "stdout",
     "output_type": "stream",
     "text": [
      "Pearson correlation coefficient between the degree and the strength of the nodes is: 0.7902833997530194\n"
     ]
    }
   ],
   "source": [
    "import scipy.stats\n",
    "degree_sequence = [G.degree(n) for n in G.nodes]\n",
    "strength_sequence = []\n",
    "for i in G.nodes:\n",
    "    strength = G.degree(i, weight = 'weight')\n",
    "    strength_sequence.append(strength)\n",
    "co = scipy.stats.pearsonr(degree_sequence, strength_sequence)[0]\n",
    "\n",
    "print(\"Pearson correlation coefficient between the degree and the strength of the nodes is:\", co)"
   ]
  },
  {
   "cell_type": "code",
   "execution_count": 11,
   "metadata": {},
   "outputs": [],
   "source": [
    "def pij(i, j, G):\n",
    "    ## calculate pij = min((1-wij/si)**(ki-1), (1-wij/sj)**(kj-1))\n",
    "    wij = G.get_edge_data(i,j)['weight']\n",
    "    \n",
    "    ## (1-wij/si)**(ki-1)\n",
    "    si = G.degree(i, weight='weight')\n",
    "    prob_i = (1-(wij/si))**(G.degree(i)-1)\n",
    "  \n",
    "    ## (1-wij/sj)**(kj-1)\n",
    "    sj = G.degree(j, weight='weight')\n",
    "    prob_j = (1-(wij/sj))**(G.degree(j)-1)\n",
    "        \n",
    "    prob_ij = min(prob_i, prob_j)\n",
    "    return (i, j, prob_ij)\n",
    "\n",
    "pij_list = []\n",
    "for i, j in G.edges():\n",
    "    pij_list.append(pij(i,j,G))"
   ]
  },
  {
   "cell_type": "code",
   "execution_count": 12,
   "metadata": {},
   "outputs": [
    {
     "name": "stdout",
     "output_type": "stream",
     "text": [
      "The fraction of edges removed for threshold 0.05 is 0.9203910614525139\n"
     ]
    }
   ],
   "source": [
    "# Use the values 0.05 for the threshold alpha\n",
    "C1 = G.copy()\n",
    "for i, j, p in pij_list:\n",
    "    if p >= 0.05:\n",
    "        C1.remove_edge(i, j)\n",
    "print(\"The fraction of edges removed for threshold 0.05 is\", (G.number_of_edges()-C1.number_of_edges())/G.number_of_edges())"
   ]
  },
  {
   "cell_type": "code",
   "execution_count": 13,
   "metadata": {},
   "outputs": [
    {
     "name": "stdout",
     "output_type": "stream",
     "text": [
      "The fraction of edges removed for threshold 0.01 is 0.978584729981378\n"
     ]
    }
   ],
   "source": [
    "# Use the values 0.01 for the threshold alpha\n",
    "C2 = G.copy()\n",
    "for i, j, p in pij_list:\n",
    "    if p >= 0.01:\n",
    "        C2.remove_edge(i, j)\n",
    "print(\"The fraction of edges removed for threshold 0.01 is\", (G.number_of_edges()-C2.number_of_edges())/G.number_of_edges())"
   ]
  },
  {
   "cell_type": "code",
   "execution_count": 14,
   "metadata": {},
   "outputs": [
    {
     "data": {
      "text/plain": [
       "False"
      ]
     },
     "execution_count": 14,
     "metadata": {},
     "output_type": "execute_result"
    }
   ],
   "source": [
    "nx.is_connected(C1)"
   ]
  },
  {
   "cell_type": "code",
   "execution_count": 15,
   "metadata": {},
   "outputs": [
    {
     "data": {
      "text/plain": [
       "False"
      ]
     },
     "execution_count": 15,
     "metadata": {},
     "output_type": "execute_result"
    }
   ],
   "source": [
    "nx.is_connected(C2)"
   ]
  },
  {
   "cell_type": "markdown",
   "metadata": {},
   "source": [
    "Therefore, both networks are not connected after the filterings"
   ]
  },
  {
   "cell_type": "markdown",
   "metadata": {},
   "source": [
    "Plot the distribution of the weights and the strengths in both cases, and compare them."
   ]
  },
  {
   "cell_type": "code",
   "execution_count": 16,
   "metadata": {},
   "outputs": [
    {
     "data": {
      "image/png": "[encoded data removed]",
      "text/plain": [
       "<Figure size 432x288 with 1 Axes>"
      ]
     },
     "metadata": {
      "needs_background": "light"
     },
     "output_type": "display_data"
    }
   ],
   "source": [
    "# C1 Weight distribution\n",
    "C1_weights = []\n",
    "for (i, j, w) in C1.edges(data = 'weight'):\n",
    "    C1_weights.append(w)\n",
    "counts, bins, patches = plt.hist(C1_weights, bins=10)\n",
    "plt.title('Weights at Alpha 0.05')\n",
    "plt.xlabel('Weight')\n",
    "plt.ylabel('Frequency');"
   ]
  },
  {
   "cell_type": "code",
   "execution_count": 17,
   "metadata": {
    "scrolled": true
   },
   "outputs": [
    {
     "data": {
      "image/png": "[encoded data removed]",
      "text/plain": [
       "<Figure size 432x288 with 1 Axes>"
      ]
     },
     "metadata": {
      "needs_background": "light"
     },
     "output_type": "display_data"
    }
   ],
   "source": [
    "# C2 Weight distribution\n",
    "C2_weights = []\n",
    "for (i, j, w) in C2.edges(data = 'weight'):\n",
    "    C2_weights.append(w)\n",
    "counts, bins, patches = plt.hist(C2_weights, bins=10)\n",
    "plt.title('Weights at Alpha 0.01')\n",
    "plt.xlabel('Weight')\n",
    "plt.ylabel('Frequency');"
   ]
  },
  {
   "cell_type": "code",
   "execution_count": 18,
   "metadata": {},
   "outputs": [
    {
     "name": "stdout",
     "output_type": "stream",
     "text": [
      "Mean weight of Alpha 0.05: 15.988304093567251\n",
      "Standard deviation weight of Alpha 0.05: 8.47903178718889\n",
      "Mean weight of Alpha 0.01: 22.347826086956523\n",
      "Standard deviation weight of Alpha 0.01: 9.886505710769711\n"
     ]
    }
   ],
   "source": [
    "print('Mean weight of Alpha 0.05:', statistics.mean(C1_weights))\n",
    "print('Standard deviation weight of Alpha 0.05:',statistics.stdev(C1_weights))\n",
    "\n",
    "print('Mean weight of Alpha 0.01:', statistics.mean(C2_weights))\n",
    "print('Standard deviation weight of Alpha 0.01:',statistics.stdev(C2_weights))"
   ]
  },
  {
   "cell_type": "markdown",
   "metadata": {},
   "source": [
    "Per statistics shown above, when the alpha is smaller, the mean weight and the standard deviation weight are both larger."
   ]
  },
  {
   "cell_type": "code",
   "execution_count": 19,
   "metadata": {},
   "outputs": [
    {
     "data": {
      "image/png": "[encoded data removed]",
      "text/plain": [
       "<Figure size 432x288 with 1 Axes>"
      ]
     },
     "metadata": {
      "needs_background": "light"
     },
     "output_type": "display_data"
    }
   ],
   "source": [
    "# C1 Strength distribution\n",
    "C1_strength_sequence = []\n",
    "for i in C1.nodes:\n",
    "    strength = C1.degree(i, weight = 'weight')\n",
    "    C1_strength_sequence.append(strength)\n",
    "\n",
    "counts, bins, patches = plt.hist(C1_strength_sequence, bins=30)\n",
    "plt.title('Strengths at Alpha 0.05')\n",
    "plt.xlabel('Strength')\n",
    "plt.ylabel('Frequency');"
   ]
  },
  {
   "cell_type": "code",
   "execution_count": 20,
   "metadata": {
    "scrolled": true
   },
   "outputs": [
    {
     "data": {
      "image/png": "[encoded data removed]",
      "text/plain": [
       "<Figure size 432x288 with 1 Axes>"
      ]
     },
     "metadata": {
      "needs_background": "light"
     },
     "output_type": "display_data"
    }
   ],
   "source": [
    "# C1 Strength distribution\n",
    "C2_strength_sequence = []\n",
    "for i in C2.nodes:\n",
    "    strength = C2.degree(i, weight = 'weight')\n",
    "    C2_strength_sequence.append(strength)\n",
    "\n",
    "counts, bins, patches = plt.hist(C2_strength_sequence, bins=30)\n",
    "plt.title('Strengths at Alpha 0.01')\n",
    "plt.xlabel('Strength')\n",
    "plt.ylabel('Frequency');"
   ]
  },
  {
   "cell_type": "code",
   "execution_count": 21,
   "metadata": {},
   "outputs": [
    {
     "name": "stdout",
     "output_type": "stream",
     "text": [
      "Mean strength of Alpha 0.05: 18.410774410774412\n",
      "Standard deviation strength of Alpha 0.05: 68.57827165348615\n",
      "Mean strength of Alpha 0.01: 6.922558922558922\n",
      "Standard deviation strength of Alpha 0.01: 29.926216634891254\n"
     ]
    }
   ],
   "source": [
    "print('Mean strength of Alpha 0.05:', statistics.mean(C1_strength_sequence))\n",
    "print('Standard deviation strength of Alpha 0.05:',statistics.stdev(C1_strength_sequence))\n",
    "\n",
    "print('Mean strength of Alpha 0.01:', statistics.mean(C2_strength_sequence))\n",
    "print('Standard deviation strength of Alpha 0.01:',statistics.stdev(C2_strength_sequence))"
   ]
  },
  {
   "cell_type": "markdown",
   "metadata": {},
   "source": [
    "Per statistics shown above, when the alpha is smaller, the mean strength and the standard deviation strength are both smaller."
   ]
  },
  {
   "cell_type": "markdown",
   "metadata": {},
   "source": [
    "### Q3. Build a random network with 1,000 nodes and p = 0.002. Plot its degree distribution. (Hint: we show how to plot a distribution in the Chapter 3 Tutorial.) Answer the following questions:\n",
    "1. What is the largest degree of the network?  \n",
    "2. What is the mode of the distribution, i.e., the most common value of\n",
    "the degree?\n",
    "3. Is the network connected? If not, how many nodes are in the giant component?\n",
    "4. What is the average clustering coefficient? Compare it with the link\n",
    "probability p.\n",
    "5. What is the network diameter?\n",
    "\n"
   ]
  },
  {
   "cell_type": "code",
   "execution_count": 22,
   "metadata": {},
   "outputs": [
    {
     "name": "stdout",
     "output_type": "stream",
     "text": [
      "Name: \n",
      "Type: Graph\n",
      "Number of nodes: 1000\n",
      "Number of edges: 990\n",
      "Average degree:   1.9800\n"
     ]
    }
   ],
   "source": [
    "G = nx.gnp_random_graph(1000, 0.002)\n",
    "print(nx.info(G))"
   ]
  },
  {
   "cell_type": "code",
   "execution_count": 23,
   "metadata": {},
   "outputs": [
    {
     "name": "stdout",
     "output_type": "stream",
     "text": [
      "The largest degree is 7\n"
     ]
    }
   ],
   "source": [
    "highest_degree_node = max(G.nodes, key=G.degree)\n",
    "print(\"The largest degree is\", G.degree(highest_degree_node))"
   ]
  },
  {
   "cell_type": "code",
   "execution_count": 24,
   "metadata": {},
   "outputs": [
    {
     "name": "stdout",
     "output_type": "stream",
     "text": [
      "The most common value of the degree is and its frequency are [(2, 275)]\n"
     ]
    }
   ],
   "source": [
    "degree_sequence = [G.degree(n) for n in G.nodes]\n",
    "from collections import Counter\n",
    "degree_counts = Counter(degree_sequence)\n",
    "\n",
    "print(\"The most common value of the degree is and its frequency are\", degree_counts.most_common(1))"
   ]
  },
  {
   "cell_type": "code",
   "execution_count": 25,
   "metadata": {},
   "outputs": [
    {
     "data": {
      "text/plain": [
       "False"
      ]
     },
     "execution_count": 25,
     "metadata": {},
     "output_type": "execute_result"
    }
   ],
   "source": [
    "nx.is_connected(G)"
   ]
  },
  {
   "cell_type": "markdown",
   "metadata": {},
   "source": [
    "The network is not connected"
   ]
  },
  {
   "cell_type": "code",
   "execution_count": 26,
   "metadata": {},
   "outputs": [
    {
     "name": "stdout",
     "output_type": "stream",
     "text": [
      "The number of nodes are in the giant component is 789\n"
     ]
    }
   ],
   "source": [
    "comps = sorted(nx.connected_components(G), key = len, reverse = True)\n",
    "nodes_in_giant_comp = comps[0]\n",
    "print(\"The number of nodes are in the giant component is\", len(nodes_in_giant_comp))"
   ]
  },
  {
   "cell_type": "code",
   "execution_count": 27,
   "metadata": {},
   "outputs": [
    {
     "name": "stdout",
     "output_type": "stream",
     "text": [
      "The average clustering coefficient is  0.0017\n"
     ]
    }
   ],
   "source": [
    "print(\"The average clustering coefficient is \", nx.average_clustering(G))"
   ]
  },
  {
   "cell_type": "code",
   "execution_count": 28,
   "metadata": {},
   "outputs": [
    {
     "data": {
      "text/plain": [
       "True"
      ]
     },
     "execution_count": 28,
     "metadata": {},
     "output_type": "execute_result"
    }
   ],
   "source": [
    "p = 0.002\n",
    "nx.average_clustering(G) < p"
   ]
  },
  {
   "cell_type": "markdown",
   "metadata": {},
   "source": [
    "The average clustering coefficient is smaller than p"
   ]
  },
  {
   "cell_type": "code",
   "execution_count": 29,
   "metadata": {},
   "outputs": [
    {
     "name": "stdout",
     "output_type": "stream",
     "text": [
      "The giant component diameter is: 20\n"
     ]
    }
   ],
   "source": [
    "# Get the giant component diameter\n",
    "GC = nx.subgraph(G, nodes_in_giant_comp)\n",
    "print(\"The giant component diameter is:\", nx.diameter(GC))"
   ]
  },
  {
   "cell_type": "markdown",
   "metadata": {},
   "source": [
    "### Q4. Consider the following process. \n",
    "First, start with a collection of N nodes and no links. This is clearly a disconnected network. Then, one by one, add a link between two nodes not already connected to each other. Continue until you have a complete network. **How many steps are in this process?**\n"
   ]
  },
  {
   "cell_type": "markdown",
   "metadata": {},
   "source": [
    "A fully connected network is a network topology in which there is a direct link between all pairs of nodes. In a fully connected network with n nodes, there are n(n-1)/2 direct links. Therefore we will need add N(N-1)/2 direct links in this process"
   ]
  },
  {
   "cell_type": "markdown",
   "metadata": {},
   "source": [
    "### Q5. Reproduce the plot of Figure 5.2 (see NetSci textbook p144) for networks with 1,000 nodes.\n",
    "(Hint: use the NetworkX function to generate random networks.)   \n",
    "Use 25 equally-spaced values of the link probability, in the interval [0, 0.005]. For each value generate 20 different networks, compute the relative size of the giant component and report the average and the standard deviation in the plot."
   ]
  },
  {
   "cell_type": "code",
   "execution_count": 30,
   "metadata": {},
   "outputs": [
    {
     "name": "stdout",
     "output_type": "stream",
     "text": [
      "[0.0002, 0.0004, 0.0006000000000000001, 0.0008, 0.001, 0.0012000000000000001, 0.0014000000000000002, 0.0016, 0.0018000000000000002, 0.002, 0.0022, 0.0024000000000000002, 0.0026000000000000003, 0.0028000000000000004, 0.003, 0.0032, 0.0034000000000000002, 0.0036000000000000003, 0.0038000000000000004, 0.004, 0.0042, 0.0044, 0.0046, 0.0048, 0.005]\n"
     ]
    }
   ],
   "source": [
    "p_list = list(np.arange(0.0002, 0.0052, 0.0002))\n",
    "print(p_list)"
   ]
  },
  {
   "cell_type": "code",
   "execution_count": 31,
   "metadata": {},
   "outputs": [],
   "source": [
    "# create a list of relative size of the giant component with each p in interval [0, 0.005]\n",
    "avg_GC_size = []\n",
    "stdev_GC_size = []\n",
    "\n",
    "for p in p_list:\n",
    "    Graph_list = []\n",
    "    p_GC_size_list = []\n",
    "    \n",
    "    # generate 20 different networks\n",
    "    for i in range(20):\n",
    "        G = nx.gnp_random_graph(1000, p)\n",
    "        Graph_list.append(G)\n",
    "        \n",
    "        # get the giant component\n",
    "        nodes_in_giant_comp = sorted(nx.connected_components(G), key = len, reverse = True)[0]\n",
    "        relative_size = len(nodes_in_giant_comp)/len(G.nodes)\n",
    "        p_GC_size_list.append(relative_size)\n",
    "    \n",
    "    # calculate the average of the relative size list for each p \n",
    "    ave_p_GC_size = statistics.mean(p_GC_size_list)\n",
    "    ave_p_GC_size_pair = (p, ave_p_GC_size)\n",
    "    avg_GC_size.append(ave_p_GC_size_pair)\n",
    "    \n",
    "    # calculate the stdev of the relative size list for each p \n",
    "    stdev_p_GC_size = statistics.stdev(p_GC_size_list)\n",
    "    stdev_p_GC_size_pair = (p, stdev_p_GC_size)\n",
    "    stdev_GC_size.append(stdev_p_GC_size_pair)\n",
    "\n",
    "# returns a dictionary  \n",
    "avg_GC_size = dict(avg_GC_size)\n",
    "stdev_GC_size = dict(stdev_GC_size)"
   ]
  },
  {
   "cell_type": "code",
   "execution_count": 32,
   "metadata": {},
   "outputs": [
    {
     "data": {
      "image/png": "[encoded data removed]",
      "text/plain": [
       "<Figure size 432x288 with 1 Axes>"
      ]
     },
     "metadata": {
      "needs_background": "light"
     },
     "output_type": "display_data"
    }
   ],
   "source": [
    "# report the average and the standard deviation in the plot\n",
    "x = avg_GC_size.keys()\n",
    "y = avg_GC_size.values()\n",
    "yerr = stdev_GC_size.values()\n",
    "plt.errorbar(x, y, yerr=yerr)\n",
    "plt.xlabel('Link Probability')\n",
    "plt.ylabel('Relative size of the giant component')\n",
    "plt.title('Avg and stdev of Relative size of the giant component');"
   ]
  }
 ],
 "metadata": {
  "kernelspec": {
   "display_name": "Python 3",
   "language": "python",
   "name": "python3"
  },
  "language_info": {
   "codemirror_mode": {
    "name": "ipython",
    "version": 3
   },
   "file_extension": ".py",
   "mimetype": "text/x-python",
   "name": "python",
   "nbconvert_exporter": "python",
   "pygments_lexer": "ipython3",
   "version": "3.7.3"
  }
 },
 "nbformat": 4,
 "nbformat_minor": 4
}
