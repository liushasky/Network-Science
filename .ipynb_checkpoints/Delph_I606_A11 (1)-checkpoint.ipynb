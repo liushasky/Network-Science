{
 "cells": [
  {
   "cell_type": "markdown",
   "metadata": {
    "id": "uDFgImKZcSp7"
   },
   "source": [
    "# Welcome to Assignment 11\n"
   ]
  },
  {
   "cell_type": "code",
   "execution_count": 1,
   "metadata": {
    "id": "qjUHr-GcozPu"
   },
   "outputs": [],
   "source": [
    "from simulation import Simulation\n",
    "import networkx as nx\n",
    "import random as rn\n",
    "import seaborn as sns\n",
    "import matplotlib.pyplot as plt\n",
    "from networkx import grid_graph\n",
    "sns.set_style('dark')\n",
    "import math"
   ]
  },
  {
   "cell_type": "code",
   "execution_count": 2,
   "metadata": {
    "colab": {
     "base_uri": "https://localhost:8080/"
    },
    "id": "du9lMBXTH_3u",
    "outputId": "ffba2c5c-ecce-4a01-d4f3-481e90822c8a"
   },
   "outputs": [
    {
     "name": "stdout",
     "output_type": "stream",
     "text": [
      "Python 3.7.10\n"
     ]
    }
   ],
   "source": [
    "! python --version"
   ]
  },
  {
   "cell_type": "markdown",
   "metadata": {
    "id": "D9E1JgkQcSqC"
   },
   "source": [
    "## Q1. SIS model\n",
    "Consider SIS model dynamics on a population. Suppose that a fraction f of the population never gets sick and that such immune individuals are randomly distributed in a homogeneous contact network (all nodes have similar degree). \n",
    "* Is the risk of epidemic spreading bigger or smaller than in the pure SIS model, for which f = 0? \n",
    "* Would the answer change if we considered SIR instead? Use the condition of Eq. 7.5 (See textbook)."
   ]
  },
  {
   "cell_type": "markdown",
   "metadata": {
    "id": "Gl0MhQ1C8mE8"
   },
   "source": [
    "**SIS Model**\n",
    "\n",
    "For the case of the SIS model, with f fraction immune, you reduce the number of suspetible population, reducing I. This means that the number of people who would have been infected is reduced, so it reduces the spread of the disease.\n",
    "\n",
    "In a pure SIS model, the spread is $\\frac{\\beta*k}{\\mu}$ \n",
    "\n",
    "In a SIS model where f is > 0, it reduces the spread like:\n",
    "$\\frac{\\beta*(1-f)}{\\mu} * k$, which is always be lower than $\\frac{\\beta*k}{\\mu}$\n",
    "\n",
    "**SIR Model**\n",
    "\n",
    "The SIR model is different from SIS because instead of going back and forth from S to I, a portion of the population permanently recover to state R, reducing the pool of S in the long-run. Even though the SIR model reduces its S pool, having fractional immunity will still lead to less epidemic spreading with larger f. The same principles apply below:\n",
    "\n",
    "In a pure SIR model, the spread is $\\frac{\\beta*k}{\\mu}$ \n",
    "\n",
    "In a SIR model where f is > 0, it reduces the spread like:\n",
    "$\\frac{\\beta*(1-f)}{\\mu} * k$, which is always be lower than $\\frac{\\beta*k}{\\mu}$"
   ]
  },
  {
   "cell_type": "markdown",
   "metadata": {
    "id": "4uPGlhROcSqD"
   },
   "source": [
    "## Q2. Epidemic outbreak\n",
    "There is an epidemic outbreak and after a quick verification it turns out that the basic reproduction number is R0 = 2.5, so we are heading towards an epidemic spread (assume that the contact network is homogeneous). The authorities urge the population to limit their contacts with other people, so that, on average, each individual gets in touch with about half the usual number of people. Suppose that doctors are capable of developing medicines that can significantly increase the recovery rate μ. \n",
    "* How much does μ have to increase so that the epidemics can be stopped?"
   ]
  },
  {
   "cell_type": "markdown",
   "metadata": {
    "id": "duSRyrOACMAj"
   },
   "source": [
    "If $\\frac{\\beta*k}{\\mu} = 2.5$, and the authorities cut contact by half, then the rate of infection is $\\frac{\\beta*(\\frac{k}{2})}{\\mu}$. \n",
    "\n",
    "Assuming $\\beta$ is constant:\n",
    "\n",
    "$\\frac{\\beta*(\\frac{k}{2})}{\\mu} = 1.25$\n",
    "\n",
    "The new reproduction number is 1.25. If we assumed $\\beta$ doesn't change, the recovery rate $\\mu$ would need to increase by at least 25% to be less than or equal to 1."
   ]
  },
  {
   "cell_type": "markdown",
   "metadata": {
    "id": "JuIg82ozcSqE"
   },
   "source": [
    "## Q3.  SIR on Random network\n",
    "Simulate the SIR dynamics on a random network（gnp） with N = 1000 nodes and link probability p = 0.01. Initially ten nodes are infected, chosen at random. The probability of recovery is μ = 0.5. \n",
    "* Run the dynamics for these values of the infection probability: β = 0.02, 0.05, 0.1, 0.2. \n",
    "* In each run, save the number of simultaneously infected people after each iteration and calculate the maximum value. \n",
    "* Interpret the results. How many iterations are needed to reach the maximum? Do you observe a major outbreak? Why or why not? \n",
    "\n"
   ]
  },
  {
   "cell_type": "code",
   "execution_count": 2,
   "metadata": {
    "id": "0ai7U3ptuNEx"
   },
   "outputs": [],
   "source": [
    "def initial_state(G):\n",
    "    \"\"\"\n",
    "    takes graph\n",
    "    shuffles graph\n",
    "    returns dict of initial state\n",
    "    \"\"\"\n",
    "    state = {}\n",
    "    node_list = list(G.nodes())\n",
    "\n",
    "    # shuffle nodes at random\n",
    "    rn.shuffle(node_list)\n",
    "\n",
    "    for idx,node in enumerate(node_list):\n",
    "        if idx <= 9:\n",
    "          state[node] = 'I'\n",
    "        else:\n",
    "          state[node] = 'S'\n",
    "    return state\n",
    "\n",
    "\n",
    "def state_transition(G, current_state, beta, u):\n",
    "    \"\"\"\n",
    "    takes in G, current state, beta, and u\n",
    "    returns next state\n",
    "    \"\"\"\n",
    "    next_state = current_state.copy()\n",
    "    u = 0.5\n",
    "\n",
    "    for node in G.nodes:\n",
    "      \n",
    "      if current_state[node] == 'S':\n",
    "        for neighbor in G.neighbors(node):\n",
    "          # S -> I\n",
    "          if current_state[neighbor] == 'I':\n",
    "            if rn.random() < beta:\n",
    "              next_state[node] = 'I'\n",
    "\n",
    "      if current_state[node] == 'I':\n",
    "          if rn.random() < u:\n",
    "            next_state[node] = 'R'\n",
    "\n",
    "    return next_state\n",
    "\n",
    "\n",
    "def SIR_sim(beta, u):\n",
    "\n",
    "    G = nx.gnp_random_graph(1000,.01)\n",
    "\n",
    "    # current state is the initial state\n",
    "    current_state = initial_state(G)\n",
    "  \n",
    "    # set threshold to false\n",
    "    threshold = False\n",
    "    sim_infected = {}\n",
    "    \n",
    "    iters = 1\n",
    "\n",
    "    while not threshold:\n",
    "        \n",
    "        new_state = state_transition(G, current_state, beta, u)\n",
    "        new_infected = list(new_state.values()).count(\"I\")\n",
    "        sim_infected[iters] = new_infected\n",
    "        \n",
    "        # threshold check\n",
    "        threshold = current_state == new_state\n",
    "\n",
    "        # update current state\n",
    "        current_state = new_state\n",
    "\n",
    "        # update iterations\n",
    "        iters += 1\n",
    "\n",
    "    return sim_infected "
   ]
  },
  {
   "cell_type": "code",
   "execution_count": 3,
   "metadata": {
    "colab": {
     "base_uri": "https://localhost:8080/"
    },
    "id": "OmADXTlO-kld",
    "outputId": "94cceacb-acd6-4672-b4c4-0326eba13d02"
   },
   "outputs": [
    {
     "name": "stdout",
     "output_type": "stream",
     "text": [
      "Max simultaneously infected 5 at iteration 1, beta: 0.02\n",
      "Max simultaneously infected 27 at iteration 10, beta: 0.05\n",
      "Max simultaneously infected 123 at iteration 9, beta: 0.1\n",
      "Max simultaneously infected 383 at iteration 6, beta: 0.2\n"
     ]
    }
   ],
   "source": [
    "betas = [0.02, 0.05, 0.1, 0.2]\n",
    "u = 0.5\n",
    "\n",
    "for idx,val in enumerate(betas):\n",
    "  sim = SIR_sim(beta=val,u=u)\n",
    "  max_ = max(sim,key=lambda k: sim[k])\n",
    "  print(f'Max simultaneously infected {sim[max_]} at iteration {max_}, beta: {val}')"
   ]
  },
  {
   "cell_type": "markdown",
   "metadata": {
    "id": "RStbL96cLf0W"
   },
   "source": [
    "As $\\beta$ increases, I would expect the higher likelihood of an outbreak. In this example, an increasing beta leads to higher simultaneously infected people. When $\\beta$ is .2, you can see that 390 newly infected people at step 6."
   ]
  },
  {
   "cell_type": "markdown",
   "metadata": {
    "id": "x4D1hUdLcSqF"
   },
   "source": [
    "## Q4.  Social influence\n",
    "In a community there are three kinds of people: frustrated (S), aggressive (I), and peaceful (R). When a frustrated individual meets an aggressive one, they become aggressive with probability β. When an aggressive individual meets a peaceful one, they become peaceful with probability α. When two aggressive people meet each other, they start to argue. But with probability α, they realize after a while that fighting is futile, and so they both turn peaceful.\n",
    "\n",
    "* Can a major spread in aggressive behaviors be prevented by a small value of β?\n",
    "\n",
    "**States Transitions**\n",
    "\n",
    "1) S (frustrated) -> I (Aggressive with $\\beta$)\n",
    "\n",
    "2) I -> R (peaceful with $\\alpha$)\n",
    "\n",
    "3) I and I fight -> R (peaceful with $\\alpha$)\n",
    "\n",
    "\n",
    "In this model, $\\beta$ and $\\alpha$ are two key parameters. A difference between this \"SIR\" model and the SIR model is that the transition with $\\beta$ occurs spontaneously. Meaning, aggression can vary from person to person. An interaction between S and I may not turn the S into an I. But a similar interaction could convert another S to an I. As a result, the aggression as a result can spread even with low transmission of $\\beta$. \n"
   ]
  },
  {
   "cell_type": "markdown",
   "metadata": {
    "id": "dPwflMticSqG"
   },
   "source": [
    "## Q5. Opinion dynamics\n",
    "Simulate the majority opinion dynamics on a square grid with N = 20×20 = 400 nodes. Initially assign each of two opinions to half of the nodes chosen at random. Execute 100 runs with different initial random assignments, until the system gets to a stationary state. \n",
    "* How many runs lead to consensus? Create a histogram of the proportion of opinion one in the non-consensus stationary states. \n",
    "* Create a histogram of the fraction of active links in those configurations. (Active links are links whose endpoints are in different opinion states. The fraction of active links is the ratio between the number of active links and the total number of links in the network.)"
   ]
  },
  {
   "cell_type": "code",
   "execution_count": 4,
   "metadata": {
    "id": "v4NF2STxcSqG"
   },
   "outputs": [],
   "source": [
    "def initial_state(G):\n",
    "\n",
    "    state = {}\n",
    "    node_list = list(G.nodes())\n",
    "\n",
    "    # shuffle nodes at random\n",
    "    rn.shuffle(node_list)\n",
    "\n",
    "    for idx,node in enumerate(node_list):\n",
    "      if idx < len(node_list)/2:\n",
    "        state[node] = 0\n",
    "      else:\n",
    "        state[node] = 1\n",
    "\n",
    "    return state\n",
    "\n",
    "\n",
    "def state_transition(G, current_state):\n",
    "    \n",
    "    nodes_list = list(G.nodes)\n",
    "    rn.shuffle(nodes_list)\n",
    "\n",
    "    current_state = current_state.copy()\n",
    "\n",
    "    for idx,node in enumerate(nodes_list):\n",
    "\n",
    "        opinion = None\n",
    "\n",
    "        if G.degree(node) > 0:\n",
    "\n",
    "            # get neighbor\n",
    "            neighbor = [current_state[neighbor] for neighbor in nx.neighbors(G,node)]\n",
    "\n",
    "            # count of ones\n",
    "            ones = neighbor.count(1)\n",
    "\n",
    "            # count of zeros\n",
    "            zeros = neighbor.count(0)\n",
    "\n",
    "            if ones > zeros:\n",
    "              current_state[node] = 1\n",
    "\n",
    "            elif zeros > ones:\n",
    "              current_state[node] = 0\n",
    "\n",
    "            else:\n",
    "              p = rn.random()\n",
    "              if p < .5:\n",
    "                current_state[node] = 1\n",
    "              else:\n",
    "                current_state[node] = 0\n",
    "\n",
    "    #all_states.append(current_state)\n",
    "    return current_state\n",
    "\n",
    "def SIR_sim(G):\n",
    "\n",
    "    # current state is the initial state\n",
    "    current_state = initial_state(G)\n",
    "  \n",
    "    # set threshold to false\n",
    "    threshold = False\n",
    "    \n",
    "    iters = 0\n",
    "\n",
    "    all_states = {}\n",
    "\n",
    "    while not threshold:\n",
    "        \n",
    "        new_state = state_transition(G, current_state)\n",
    "        \n",
    "        # threshold check\n",
    "        threshold = current_state == new_state or len(set(new_state.values())) <= 1\n",
    "\n",
    "        is_consensus = len(set(new_state.values())) <= 1\n",
    "\n",
    "        # update current state\n",
    "        current_state = new_state\n",
    "\n",
    "        all_states[iters] = current_state\n",
    "\n",
    "        # update iterations\n",
    "        iters += 1\n",
    "\n",
    "    return all_states, is_consensus"
   ]
  },
  {
   "cell_type": "code",
   "execution_count": 5,
   "metadata": {
    "colab": {
     "base_uri": "https://localhost:8080/"
    },
    "id": "n29Yhm03QovM",
    "outputId": "16843b7a-61ce-4301-fa03-8fc7533adaaa"
   },
   "outputs": [
    {
     "name": "stdout",
     "output_type": "stream",
     "text": [
      "Consensus reached at 4 run\n",
      "Consensus reached at 13 run\n",
      "Consensus reached at 61 run\n",
      "Consensus reached at 85 run\n"
     ]
    }
   ],
   "source": [
    "graphs = []\n",
    "check = False\n",
    "sim,check = None, None\n",
    "sim_results = []\n",
    "indexes = []\n",
    "\n",
    "for i in range(100):\n",
    "  G = grid_graph(dim=(20,20))\n",
    "  sim,check = SIR_sim(G)\n",
    "  if check:\n",
    "    print(f'Consensus reached at {i} run')\n",
    "    indexes.append(i)\n",
    "  sim_results.append(sim)\n",
    "  graphs.append(G)"
   ]
  },
  {
   "cell_type": "code",
   "execution_count": 6,
   "metadata": {
    "colab": {
     "base_uri": "https://localhost:8080/"
    },
    "id": "5tZsjaYy7DJT",
    "outputId": "799dac47-632f-44cb-d941-d9c304cca6c1"
   },
   "outputs": [
    {
     "data": {
      "text/plain": [
       "100"
      ]
     },
     "execution_count": 6,
     "metadata": {},
     "output_type": "execute_result"
    }
   ],
   "source": [
    "len(sim_results)"
   ]
  },
  {
   "cell_type": "code",
   "execution_count": 7,
   "metadata": {
    "id": "KI8V3txQ7cdc"
   },
   "outputs": [],
   "source": [
    "non_consensus = []\n",
    "for run,state in enumerate(sim_results):\n",
    "  if run not in indexes:\n",
    "    for node,opinion in state.items():\n",
    "      if len(set(opinion.values())) > 1:\n",
    "        non_consensus.append(list(opinion.values()))"
   ]
  },
  {
   "cell_type": "code",
   "execution_count": 8,
   "metadata": {
    "colab": {
     "base_uri": "https://localhost:8080/",
     "height": 281
    },
    "id": "NpRUWRn3qK-t",
    "outputId": "c8d55ee9-9414-45fc-e08b-68aaabceec40"
   },
   "outputs": [
    {
     "data": {
      "image/png": "[encoded data removed]",
      "text/plain": [
       "<Figure size 432x288 with 1 Axes>"
      ]
     },
     "metadata": {
      "needs_background": "light"
     },
     "output_type": "display_data"
    }
   ],
   "source": [
    "ratios = [list(state).count(1)/len(list(state)) for state in non_consensus]\n",
    "fig = plt.hist(ratios)\n",
    "title = plt.title('Non-Consensus States of Opinion 1')"
   ]
  },
  {
   "cell_type": "code",
   "execution_count": 9,
   "metadata": {
    "id": "O8z-H911-okv"
   },
   "outputs": [],
   "source": [
    "def get_active_links(state,G):\n",
    "  active_links = []\n",
    "  for node, node_state in state.items():\n",
    "    neighbors = list(nx.neighbors(G,node))\n",
    "    for neighbor in neighbors:\n",
    "      if state[neighbor] != node_state:\n",
    "        active_link = (node, neighbor)\n",
    "        active_links.append(active_link)\n",
    "  return len(set(active_links))/G.number_of_edges()"
   ]
  },
  {
   "cell_type": "code",
   "execution_count": 10,
   "metadata": {
    "colab": {
     "base_uri": "https://localhost:8080/"
    },
    "id": "ovRkRlhT91-y",
    "outputId": "24ea8f01-6efb-4b15-b586-cc1c0041a4c5"
   },
   "outputs": [
    {
     "data": {
      "text/plain": [
       "True"
      ]
     },
     "execution_count": 10,
     "metadata": {},
     "output_type": "execute_result"
    }
   ],
   "source": [
    "len(graphs) == len(sim_results)"
   ]
  },
  {
   "cell_type": "code",
   "execution_count": 11,
   "metadata": {
    "id": "zTu344Mx9BfH"
   },
   "outputs": [],
   "source": [
    "ratio_active_links = []\n",
    "for run,state in enumerate(sim_results):\n",
    "  if run not in indexes:\n",
    "    for node, node_state in state.items():\n",
    "      G = graphs[run]\n",
    "      num_active_links = get_active_links(node_state,G)\n",
    "      ratio_active_links.append(num_active_links)"
   ]
  },
  {
   "cell_type": "code",
   "execution_count": 12,
   "metadata": {
    "colab": {
     "base_uri": "https://localhost:8080/",
     "height": 281
    },
    "id": "HJzoEAfC30iA",
    "outputId": "09e2122f-570c-46d3-be68-77ac8a3d044b"
   },
   "outputs": [
    {
     "data": {
      "image/png": "[encoded data removed]",
      "text/plain": [
       "<Figure size 432x288 with 1 Axes>"
      ]
     },
     "metadata": {
      "needs_background": "light"
     },
     "output_type": "display_data"
    }
   ],
   "source": [
    "fig = plt.hist(ratio_active_links)\n",
    "title = plt.title('Ratio of Active Links')"
   ]
  },
  {
   "cell_type": "markdown",
   "metadata": {
    "id": "2lDomtOLcSqG"
   },
   "source": [
    "## Q6. Bounded-confidence model of opinion dynamics\n",
    "Simulate the bounded-confidence model of opinion dynamics on a complete network with N = 1000 nodes. The initial opinions are random numbers between zero and one. Consider three different values of the confidence bound: ε = 0.125, 0.25, 0.5. For each ε, use different values for the convergence pa- rameter, say μ = 0.1, 0.3, 0.5.\n",
    "* Run every simulation until each opinion varies by less than 1% between consecutive iterations, and plot a histogram of the final opinions. \n",
    "* Does the number of final opinion clusters depend on ε? Why or why not? Does it depend on μ? Why or why not? "
   ]
  },
  {
   "cell_type": "code",
   "execution_count": 217,
   "metadata": {
    "id": "tGXNvAhYUjM5"
   },
   "outputs": [],
   "source": [
    "def initial_state(G):\n",
    "    \"\"\"\n",
    "    takes graph\n",
    "    shuffles graph\n",
    "    returns dict of initial state\n",
    "    \"\"\"\n",
    "    state = {}\n",
    "    node_list = list(G.nodes())\n",
    "\n",
    "    # shuffle nodes at random\n",
    "    rn.shuffle(node_list)\n",
    "\n",
    "    for idx,node in enumerate(node_list):\n",
    "        state[node] = rn.random()\n",
    "\n",
    "    return state\n",
    "\n",
    "\n",
    "def state_transition(G, current_state, u, epsilon):\n",
    "    \"\"\"\n",
    "    takes in G, current state, beta, and u\n",
    "    returns next state\n",
    "    \"\"\"\n",
    "    # copy random state\n",
    "    next_state = current_state.copy()\n",
    "\n",
    "    #rn.shuffle(next_state)\n",
    "\n",
    "    # at iteration t\n",
    "    for node in G.nodes:\n",
    "\n",
    "      if G.degree(node) > 0:\n",
    "\n",
    "        # pick random neighbor j\n",
    "        neighbor = rn.choice(list(nx.neighbors(G,node)))\n",
    "        check = abs(current_state[neighbor] - current_state[node]) < epsilon\n",
    "\n",
    "        if check:\n",
    "          next_state[node] += u * (current_state[neighbor] - current_state[node])\n",
    "          next_state[neighbor] += u * (current_state[node] - current_state[neighbor])\n",
    "\n",
    "    return next_state\n",
    "\n",
    "\n",
    "def SIR_sim(u,epsilon):\n",
    "\n",
    "    G = nx.complete_graph(1000)\n",
    "\n",
    "    # current state is the initial state\n",
    "    current_state = initial_state(G)\n",
    "  \n",
    "    # set threshold to false\n",
    "    threshold = False\n",
    "\n",
    "    iter = 1\n",
    "\n",
    "    while not threshold:\n",
    "        \n",
    "        current_state_opinions = list(current_state.values())\n",
    "        new_state = state_transition(G, current_state, u, epsilon)\n",
    "        new_state_opinions = list(new_state.values())\n",
    "        \n",
    "        # threshold check\n",
    "        opinion_change = [abs(current_state[node]-new_state[node]) < .01 for node in G.nodes]\n",
    "        threshold = sum(opinion_change) == len(new_state_opinions)\n",
    "\n",
    "        # update current state\n",
    "        current_state = new_state\n",
    "\n",
    "        iter += 1\n",
    "    \n",
    "    print(f'u {u}, e {epsilon}, converged in {iter} steps')\n",
    "\n",
    "    return current_state"
   ]
  },
  {
   "cell_type": "code",
   "execution_count": 218,
   "metadata": {
    "colab": {
     "base_uri": "https://localhost:8080/"
    },
    "id": "niPB2t60uckZ",
    "outputId": "4f45299e-7bd7-435a-9c7c-17b316f58f19"
   },
   "outputs": [
    {
     "name": "stdout",
     "output_type": "stream",
     "text": [
      "u 0.1, e 0.125, converged in 98 steps\n",
      "u 0.1, e 0.25, converged in 54 steps\n",
      "u 0.1, e 0.5, converged in 25 steps\n",
      "u 0.3, e 0.125, converged in 58 steps\n",
      "u 0.3, e 0.25, converged in 27 steps\n",
      "u 0.3, e 0.5, converged in 15 steps\n",
      "u 0.5, e 0.125, converged in 52 steps\n",
      "u 0.5, e 0.25, converged in 47 steps\n",
      "u 0.5, e 0.5, converged in 40 steps\n"
     ]
    }
   ],
   "source": [
    "e =  [.125, 0.25, 0.5]\n",
    "u =  [0.1, 0.3, 0.5]\n",
    "op_dynamics = {}\n",
    "\n",
    "for i in range(len(u)):\n",
    "  for j in range(len(e)):\n",
    "    op_dynamics[(u[i],e[j])] = SIR_sim(u[i],e[j])"
   ]
  },
  {
   "cell_type": "code",
   "execution_count": 300,
   "metadata": {
    "colab": {
     "base_uri": "https://localhost:8080/",
     "height": 879
    },
    "id": "8zNjVY5fAcbX",
    "outputId": "44623e00-e730-48b6-ce30-b7fdb00f7403"
   },
   "outputs": [
    {
     "data": {
      "image/png": "[encoded data removed]",
      "text/plain": [
       "<Figure size 1080x1080 with 9 Axes>"
      ]
     },
     "metadata": {
      "needs_background": "light",
      "tags": []
     },
     "output_type": "display_data"
    }
   ],
   "source": [
    "counter = 1\n",
    "plt.subplots(3,3,figsize=(15,15))\n",
    "for key,value in op_dynamics.items():\n",
    "  label = f'Mu: {key[0]}, Epsilon: {key[1]}'\n",
    "  plt.subplot(3,3,counter)\n",
    "  plt.hist(list(value.values()))\n",
    "  plt.title(label)\n",
    "  counter += 1"
   ]
  },
  {
   "cell_type": "markdown",
   "metadata": {
    "id": "L4LUs540BkkW"
   },
   "source": [
    "Based the these plots, if you look at $\\epsilon$ across each row it impacts the final number of clusters. As $\\epsilon$ increases, the confidence bound increases as well. This shows that will be a larger number of clusters. For $\\mu$, it does not impact the number of clusters. $\\mu$ pertains to the convergence of the clusters. You can see that when $\\mu$ is close to 1/2, the opinons converge to their average."
   ]
  }
 ],
 "metadata": {
  "colab": {
   "name": "Delph_I606_A11.ipynb",
   "provenance": []
  },
  "kernelspec": {
   "display_name": "Python 3",
   "language": "python",
   "name": "python3"
  },
  "language_info": {
   "codemirror_mode": {
    "name": "ipython",
    "version": 3
   },
   "file_extension": ".py",
   "mimetype": "text/x-python",
   "name": "python",
   "nbconvert_exporter": "python",
   "pygments_lexer": "ipython3",
   "version": "3.7.3"
  }
 },
 "nbformat": 4,
 "nbformat_minor": 1
}
