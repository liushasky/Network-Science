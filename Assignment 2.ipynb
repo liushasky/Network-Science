{
 "cells": [
  {
   "cell_type": "markdown",
   "metadata": {},
   "source": [
    "# Assignment 2 \n",
    "# Name: Sha Liu"
   ]
  },
  {
   "cell_type": "markdown",
   "metadata": {},
   "source": [
    "## First, consider c.elegans as a directed network."
   ]
  },
  {
   "cell_type": "markdown",
   "metadata": {},
   "source": [
    "### Read the text file and create a network"
   ]
  },
  {
   "cell_type": "code",
   "execution_count": 1,
   "metadata": {},
   "outputs": [],
   "source": [
    "import networkx as nx\n",
    "%matplotlib inline"
   ]
  },
  {
   "cell_type": "code",
   "execution_count": 2,
   "metadata": {
    "scrolled": true
   },
   "outputs": [],
   "source": [
    "D = nx.read_weighted_edgelist('data/celegansneural.edges.txt',create_using=nx.DiGraph)"
   ]
  },
  {
   "cell_type": "markdown",
   "metadata": {},
   "source": [
    "### 1. How many nodes and links are in the network?"
   ]
  },
  {
   "cell_type": "code",
   "execution_count": 3,
   "metadata": {},
   "outputs": [
    {
     "data": {
      "text/plain": [
       "297"
      ]
     },
     "execution_count": 3,
     "metadata": {},
     "output_type": "execute_result"
    }
   ],
   "source": [
    "D.number_of_nodes()"
   ]
  },
  {
   "cell_type": "markdown",
   "metadata": {},
   "source": [
    "### 2. What is the density of the network?"
   ]
  },
  {
   "cell_type": "code",
   "execution_count": 4,
   "metadata": {},
   "outputs": [
    {
     "name": "stdout",
     "output_type": "stream",
     "text": [
      "The density of network D is 0.026674401674401674\n"
     ]
    }
   ],
   "source": [
    "print(\"The density of network D is\", nx.density(D))"
   ]
  },
  {
   "cell_type": "markdown",
   "metadata": {},
   "source": [
    "### 3. Please show the node with the largest in-degree, and the node with the largest out-degree."
   ]
  },
  {
   "cell_type": "code",
   "execution_count": 5,
   "metadata": {},
   "outputs": [
    {
     "name": "stdout",
     "output_type": "stream",
     "text": [
      "The node with the largest in-degree of network D is  ('45', 134)\n",
      "The node with the largest out-degree of network D is  ('3', 39)\n"
     ]
    }
   ],
   "source": [
    "def max_in_degree(D):\n",
    "  nodes = dict(D.in_degree(D.nodes()))\n",
    "  return max(nodes.items(), key=lambda x: x[1])\n",
    "\n",
    "print(\"The node with the largest in-degree of network D is \", max_in_degree(D))\n",
    "\n",
    "def max_out_degree(D):\n",
    "  nodes = dict(D.out_degree(D.nodes()))\n",
    "  return max(nodes.items(), key=lambda x: x[1])\n",
    "\n",
    "print(\"The node with the largest out-degree of network D is \", max_out_degree(D))"
   ]
  },
  {
   "cell_type": "markdown",
   "metadata": {},
   "source": [
    "### 4. Please show the node with the largest in-strength, and the one with the largest out-strength."
   ]
  },
  {
   "cell_type": "code",
   "execution_count": 6,
   "metadata": {},
   "outputs": [],
   "source": [
    "def retreive_max_in_edge(D, n):\n",
    "    \"\"\"\n",
    "    given node n, retrieve all of its in-comming edges and find the edge with max in-strength.\n",
    "    return a tuple of the node n and its max in-strength\n",
    "    \"\"\"\n",
    "    in_edge = D.in_edges(n, data=True)\n",
    "    max_in_edge = ('0','0',{'weight':0})\n",
    "    if len(in_edge)>0:\n",
    "        try:\n",
    "            max_in_edge = max(in_edge, key=lambda x: x[2]['weight'])\n",
    "        except:\n",
    "            pass\n",
    "    return (n, max_in_edge[2]['weight'])\n",
    "\n",
    "def retreive_max_in_strength_node(D):\n",
    "    \"\"\"\n",
    "    given graph D, retrieve all of its node and find the node with largest max in-strength.\n",
    "    return the node and its max in-strength\n",
    "    \"\"\"\n",
    "    max_in_strength_node = ('0',0)\n",
    "    nodes = []\n",
    "    for n in D.nodes():\n",
    "        nodes.append(retreive_max_in_edge(D, n))\n",
    "    if len(nodes)>0:\n",
    "        max_in_strength_node = max(nodes, key=lambda x: x[1])\n",
    "    return max_in_strength_node"
   ]
  },
  {
   "cell_type": "code",
   "execution_count": 7,
   "metadata": {},
   "outputs": [],
   "source": [
    "def retreive_max_out_edge(D, n):\n",
    "    out_edge = D.out_edges(n, data=True)\n",
    "    max_out_edge = ('0','0',{'weight':0})\n",
    "    if len(out_edge)>0:\n",
    "        try:\n",
    "            max_out_edge = max(out_edge, key=lambda x: x[2]['weight'])\n",
    "        except:\n",
    "            pass\n",
    "    return (n, max_out_edge[2]['weight'])\n",
    "\n",
    "def retreive_max_out_strength_node(D):\n",
    "    max_out_strength_node = ('0',0)\n",
    "    nodes = []\n",
    "    for n in D.nodes():\n",
    "        nodes.append(retreive_max_out_edge(D, n))\n",
    "    if len(nodes)>0:\n",
    "        max_out_strength_node = max(nodes, key=lambda x: x[1])\n",
    "    return max_out_strength_node"
   ]
  },
  {
   "cell_type": "code",
   "execution_count": 8,
   "metadata": {},
   "outputs": [
    {
     "name": "stdout",
     "output_type": "stream",
     "text": [
      "The largest in-strength node and weight ('3', 70.0)\n",
      "The largest out-strength node and weight ('119', 70.0)\n"
     ]
    }
   ],
   "source": [
    "print(\"The largest in-strength node and weight\", retreive_max_in_strength_node(D))\n",
    "print(\"The largest out-strength node and weight\", retreive_max_out_strength_node(D))"
   ]
  },
  {
   "cell_type": "markdown",
   "metadata": {},
   "source": [
    "### 5. Please calculate the average in-degree and out-degree of the network D. "
   ]
  },
  {
   "cell_type": "code",
   "execution_count": 9,
   "metadata": {},
   "outputs": [
    {
     "name": "stdout",
     "output_type": "stream",
     "text": [
      "The node with the average in-degree of network D is  7.895622895622895\n",
      "The node with the average out-degree of network D is  7.895622895622895\n"
     ]
    }
   ],
   "source": [
    "import numpy as np\n",
    "def avg_in_degree(D):\n",
    "  nodes = dict(D.in_degree(D.nodes()))\n",
    "  return np.mean(list(nodes.values()))\n",
    "\n",
    "print(\"The node with the average in-degree of network D is \", avg_in_degree(D))\n",
    "\n",
    "def avg_out_degree(D):\n",
    "  nodes = dict(D.out_degree(D.nodes()))\n",
    "  return np.mean(list(nodes.values()))\n",
    "\n",
    "print(\"The node with the average out-degree of network D is \", avg_out_degree(D))"
   ]
  },
  {
   "cell_type": "markdown",
   "metadata": {},
   "source": [
    "### 6. Draw the network"
   ]
  },
  {
   "cell_type": "code",
   "execution_count": 10,
   "metadata": {},
   "outputs": [
    {
     "data": {
      "image/png": "[encoded data removed]",
      "text/plain": [
       "<Figure size 432x288 with 1 Axes>"
      ]
     },
     "metadata": {},
     "output_type": "display_data"
    }
   ],
   "source": [
    "nx.draw_spring(D, node_size=80, node_color='lightblue', with_labels=False)"
   ]
  },
  {
   "cell_type": "markdown",
   "metadata": {},
   "source": [
    "### 7. Any nodes with zero in-degree? How many?"
   ]
  },
  {
   "cell_type": "code",
   "execution_count": 11,
   "metadata": {},
   "outputs": [
    {
     "name": "stdout",
     "output_type": "stream",
     "text": [
      "A list of nodes with zero in-degree ['135', '55', '262', '58', '231', '252', '279', '281', '282', '285', '286', '287', '288', '289', '290', '291', '292', '293', '294', '295', '144', '260', '243', '244', '296', '297', '261']\n",
      "Total number of nodes with zero in-degree = 27\n"
     ]
    }
   ],
   "source": [
    "def in_degree_zero(D):\n",
    "    in_degree_zero = []\n",
    "    for n, degree in D.in_degree():\n",
    "        if degree == 0:\n",
    "            in_degree_zero.append(n)\n",
    "    return in_degree_zero\n",
    "    \n",
    "print(\"A list of nodes with zero in-degree\" ,in_degree_zero(D))\n",
    "print(\"Total number of nodes with zero in-degree =\", len(in_degree_zero(D)))"
   ]
  },
  {
   "cell_type": "markdown",
   "metadata": {},
   "source": [
    "### 8. Any nodes with zero out-degree? How many?"
   ]
  },
  {
   "cell_type": "code",
   "execution_count": 12,
   "metadata": {},
   "outputs": [
    {
     "name": "stdout",
     "output_type": "stream",
     "text": [
      "A list of nodes with zero out-degree ['40', '45', '191']\n",
      "Total number of nodes with zero out-degree = 3\n"
     ]
    }
   ],
   "source": [
    "def out_degree_zero(D):\n",
    "    out_degree_zero = []\n",
    "    for n, degree in D.out_degree():\n",
    "        if degree == 0:\n",
    "            out_degree_zero.append(n)\n",
    "    return out_degree_zero\n",
    "    \n",
    "print(\"A list of nodes with zero out-degree\" ,out_degree_zero(D))\n",
    "print(\"Total number of nodes with zero out-degree =\", len(out_degree_zero(D)))"
   ]
  },
  {
   "cell_type": "markdown",
   "metadata": {},
   "source": [
    "### 9. Which pair of nodes have the largest number of common predecessors?"
   ]
  },
  {
   "cell_type": "code",
   "execution_count": 13,
   "metadata": {},
   "outputs": [
    {
     "name": "stdout",
     "output_type": "stream",
     "text": [
      "The largest number of common predecessors is 21\n",
      "The node pair is ('3', '119')\n"
     ]
    }
   ],
   "source": [
    "max_pre = 0\n",
    "max_pre_node_pairs = 0\n",
    "for u, v in D.edges:\n",
    "    u_set = set(D.predecessors(u))\n",
    "    v_set = set(D.predecessors(v))\n",
    "    if len(u_set & v_set) > max_pre:\n",
    "        max_pre = len(u_set & v_set)\n",
    "        max_pre_node_pairs = (u, v)\n",
    "        \n",
    "print(\"The largest number of common predecessors is\" ,max_pre)\n",
    "print(\"The node pair is\", max_pre_node_pairs)"
   ]
  },
  {
   "cell_type": "markdown",
   "metadata": {},
   "source": [
    "### 10. Which pair of nodes have the largest number of common successors?"
   ]
  },
  {
   "cell_type": "code",
   "execution_count": 14,
   "metadata": {},
   "outputs": [
    {
     "name": "stdout",
     "output_type": "stream",
     "text": [
      "The largest number of common successors is 29\n",
      "The node pair is ('3', '13')\n"
     ]
    }
   ],
   "source": [
    "max_suc = 0\n",
    "max_suc_node_pairs = 0\n",
    "for u, v in D.edges:\n",
    "    u_set = set(D.successors(u))\n",
    "    v_set = set(D.successors(v))\n",
    "    if len(u_set & v_set) > max_suc:\n",
    "        max_suc = len(u_set & v_set)\n",
    "        max_suc_node_pairs = (u, v)\n",
    "        \n",
    "print(\"The largest number of common successors is\" ,max_suc)\n",
    "print(\"The node pair is\", max_suc_node_pairs)"
   ]
  },
  {
   "cell_type": "markdown",
   "metadata": {},
   "source": [
    "## Read c.elegans as an undirected network."
   ]
  },
  {
   "cell_type": "code",
   "execution_count": 15,
   "metadata": {},
   "outputs": [],
   "source": [
    "G = nx.read_weighted_edgelist('data/celegansneural.edges.txt',create_using=nx.Graph)"
   ]
  },
  {
   "cell_type": "markdown",
   "metadata": {},
   "source": [
    "### 1. What's the average path length?"
   ]
  },
  {
   "cell_type": "code",
   "execution_count": 16,
   "metadata": {},
   "outputs": [
    {
     "data": {
      "text/plain": [
       "2.455318955318955"
      ]
     },
     "execution_count": 16,
     "metadata": {},
     "output_type": "execute_result"
    }
   ],
   "source": [
    "nx.average_shortest_path_length(G)"
   ]
  },
  {
   "cell_type": "markdown",
   "metadata": {},
   "source": [
    "### 2. What's the diameter?"
   ]
  },
  {
   "cell_type": "code",
   "execution_count": 17,
   "metadata": {},
   "outputs": [
    {
     "data": {
      "text/plain": [
       "5"
      ]
     },
     "execution_count": 17,
     "metadata": {},
     "output_type": "execute_result"
    }
   ],
   "source": [
    "nx.diameter(G)"
   ]
  },
  {
   "cell_type": "markdown",
   "metadata": {},
   "source": [
    "### 3. Which node has the largest clustering coefficient?"
   ]
  },
  {
   "cell_type": "code",
   "execution_count": 18,
   "metadata": {},
   "outputs": [
    {
     "name": "stdout",
     "output_type": "stream",
     "text": [
      "The largest clustering coefficient node and its coefficient is ('252', 1.0)\n"
     ]
    }
   ],
   "source": [
    "def max_clustering_coe(G):\n",
    "    return max(nx.clustering(G).items(), key=lambda x: x[1])\n",
    "\n",
    "print(\"The largest clustering coefficient node and its coefficient is\", max_clustering_coe(G))"
   ]
  },
  {
   "cell_type": "markdown",
   "metadata": {},
   "source": [
    "### 4. What's the average clustering coefficient?"
   ]
  },
  {
   "cell_type": "code",
   "execution_count": 19,
   "metadata": {},
   "outputs": [
    {
     "data": {
      "text/plain": [
       "0.2923632978321901"
      ]
     },
     "execution_count": 19,
     "metadata": {},
     "output_type": "execute_result"
    }
   ],
   "source": [
    "nx.average_clustering(G)"
   ]
  }
 ],
 "metadata": {
  "kernelspec": {
   "display_name": "Python 3",
   "language": "python",
   "name": "python3"
  },
  "language_info": {
   "codemirror_mode": {
    "name": "ipython",
    "version": 3
   },
   "file_extension": ".py",
   "mimetype": "text/x-python",
   "name": "python",
   "nbconvert_exporter": "python",
   "pygments_lexer": "ipython3",
   "version": "3.7.3"
  }
 },
 "nbformat": 4,
 "nbformat_minor": 2
}
