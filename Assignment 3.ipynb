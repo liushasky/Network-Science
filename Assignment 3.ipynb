{
 "cells": [
  {
   "cell_type": "markdown",
   "metadata": {},
   "source": [
    "# Assignment 3\n",
    "# Name: Sha Liu"
   ]
  },
  {
   "cell_type": "markdown",
   "metadata": {},
   "source": [
    "## Section 1: friendships network"
   ]
  },
  {
   "cell_type": "markdown",
   "metadata": {},
   "source": [
    "### Read the text file and create a network"
   ]
  },
  {
   "cell_type": "code",
   "execution_count": 2,
   "metadata": {},
   "outputs": [],
   "source": [
    "import networkx as nx\n",
    "%matplotlib inline"
   ]
  },
  {
   "cell_type": "code",
   "execution_count": 3,
   "metadata": {
    "scrolled": true
   },
   "outputs": [],
   "source": [
    "G = nx.read_graphml('data/highschool_2012.graphml')"
   ]
  },
  {
   "cell_type": "markdown",
   "metadata": {},
   "source": [
    "### 1. Which node in this network has the highest degree?"
   ]
  },
  {
   "cell_type": "code",
   "execution_count": 4,
   "metadata": {},
   "outputs": [
    {
     "name": "stdout",
     "output_type": "stream",
     "text": [
      "The node has the highest degree is 826\n"
     ]
    }
   ],
   "source": [
    "highest_degree_node = max(G.nodes, key = G.degree)\n",
    "print(\"The node has the highest degree is\", highest_degree_node)"
   ]
  },
  {
   "cell_type": "markdown",
   "metadata": {},
   "source": [
    "### 2. Which node has the largest clustering coefficient?"
   ]
  },
  {
   "cell_type": "code",
   "execution_count": 5,
   "metadata": {},
   "outputs": [
    {
     "name": "stdout",
     "output_type": "stream",
     "text": [
      "The node has the highest clustering coefficient is 647\n"
     ]
    }
   ],
   "source": [
    "clustering_coe = nx.clustering(G)\n",
    "highest_clustering_node = max(G.nodes, key = clustering_coe.get)\n",
    "print(\"The node has the highest clustering coefficient is\", highest_clustering_node)"
   ]
  },
  {
   "cell_type": "markdown",
   "metadata": {},
   "source": [
    "### 3. What is the average clustering coefficient of the network?"
   ]
  },
  {
   "cell_type": "code",
   "execution_count": 6,
   "metadata": {},
   "outputs": [
    {
     "data": {
      "text/plain": [
       "0.47520352183217995"
      ]
     },
     "execution_count": 6,
     "metadata": {},
     "output_type": "execute_result"
    }
   ],
   "source": [
    "nx.average_clustering(G)"
   ]
  },
  {
   "cell_type": "markdown",
   "metadata": {},
   "source": [
    "### 4. Each node in this graph has a 'gender' attribute. Let's investigate and see if high school students are homophilous with respect to gender. To find out the gender of any node type, you could use: G.nodes[node]['gender'] where node indicates the label of the node. The answer will be  'M' (male) or 'F' (female). What proportion of the nodes in the graph are male?"
   ]
  },
  {
   "cell_type": "code",
   "execution_count": 7,
   "metadata": {},
   "outputs": [
    {
     "name": "stdout",
     "output_type": "stream",
     "text": [
      "Male proportion is 0.7333333333333333\n"
     ]
    }
   ],
   "source": [
    "def male_percent(G):\n",
    "    Male = 0\n",
    "    for node in G.nodes:\n",
    "        if G.nodes[node]['gender'] == 'M':\n",
    "            Male += 1\n",
    "    return Male/G.number_of_nodes()\n",
    "\n",
    "print(\"Male proportion is\", male_percent(G))"
   ]
  },
  {
   "cell_type": "markdown",
   "metadata": {},
   "source": [
    "### 5. Now let's compute the expected number of edges in the null model where gender has no effect on edge creation. In a random network with the same number of edges and the same proportion of male and female nodes, how many M-M edges would we expect? Round to the nearest integer. \n",
    "Hint: This and the next two answers should just about sum to the total number of edges (may be off by one or so due to rounding errors)."
   ]
  },
  {
   "cell_type": "code",
   "execution_count": 8,
   "metadata": {},
   "outputs": [
    {
     "data": {
      "text/plain": [
       "1194"
      ]
     },
     "execution_count": 8,
     "metadata": {},
     "output_type": "execute_result"
    }
   ],
   "source": [
    "int(round((male_percent(G)**2) * G.number_of_edges()))"
   ]
  },
  {
   "cell_type": "markdown",
   "metadata": {},
   "source": [
    "### 6. How many F-F edges would we expect? (round to nearest integer)"
   ]
  },
  {
   "cell_type": "code",
   "execution_count": 9,
   "metadata": {},
   "outputs": [
    {
     "data": {
      "text/plain": [
       "158"
      ]
     },
     "execution_count": 9,
     "metadata": {},
     "output_type": "execute_result"
    }
   ],
   "source": [
    "int(round(((1-male_percent(G))**2) * G.number_of_edges()))"
   ]
  },
  {
   "cell_type": "markdown",
   "metadata": {},
   "source": [
    "### 7. And how many F-M edges would we expect? (round to nearest integer)"
   ]
  },
  {
   "cell_type": "code",
   "execution_count": 10,
   "metadata": {},
   "outputs": [
    {
     "data": {
      "text/plain": [
       "868"
      ]
     },
     "execution_count": 10,
     "metadata": {},
     "output_type": "execute_result"
    }
   ],
   "source": [
    "int(round(((1-male_percent(G))* male_percent(G) *2 * G.number_of_edges())))"
   ]
  },
  {
   "cell_type": "markdown",
   "metadata": {},
   "source": [
    "### 8. Now let's count the actual number of edges of each type. How many edges in this graph connect two nodes with 'M' as their 'gender' attribute?"
   ]
  },
  {
   "cell_type": "code",
   "execution_count": 11,
   "metadata": {},
   "outputs": [
    {
     "name": "stdout",
     "output_type": "stream",
     "text": [
      "M-M edges 1276\n"
     ]
    }
   ],
   "source": [
    "def M_M_edges(G):\n",
    "    count = 0\n",
    "    for u, v in G.edges:\n",
    "        if G.nodes[u]['gender'] == 'M'and G.nodes[v]['gender'] == 'M':\n",
    "                count += 1\n",
    "    return count\n",
    "\n",
    "print(\"M-M edges\", M_M_edges(G))"
   ]
  },
  {
   "cell_type": "markdown",
   "metadata": {},
   "source": [
    "### 9. How many edges connect two nodes with 'F' as their 'gender' attribute?"
   ]
  },
  {
   "cell_type": "code",
   "execution_count": 12,
   "metadata": {},
   "outputs": [
    {
     "name": "stdout",
     "output_type": "stream",
     "text": [
      "F-F edges 182\n"
     ]
    }
   ],
   "source": [
    "def F_F_edges(G):\n",
    "    count = 0\n",
    "    for u, v in G.edges:\n",
    "        if G.nodes[u]['gender'] == 'F'and G.nodes[v]['gender'] == 'F':\n",
    "                count += 1\n",
    "    return count\n",
    "\n",
    "print(\"F-F edges\", F_F_edges(G))"
   ]
  },
  {
   "cell_type": "markdown",
   "metadata": {},
   "source": [
    "### 10. How many edges then connect nodes of different gender?"
   ]
  },
  {
   "cell_type": "code",
   "execution_count": 15,
   "metadata": {},
   "outputs": [
    {
     "name": "stdout",
     "output_type": "stream",
     "text": [
      "F-M edges 762\n"
     ]
    }
   ],
   "source": [
    "def F_M_edges(G):\n",
    "    count = 0\n",
    "    for u, v in G.edges:\n",
    "        if G.nodes[u]['gender'] == 'F'and G.nodes[v]['gender'] == 'M':\n",
    "                count += 1\n",
    "    return count\n",
    "\n",
    "def M_F_edges(G):\n",
    "    count = 0\n",
    "    for u, v in G.edges:\n",
    "        if G.nodes[u]['gender'] == 'M'and G.nodes[v]['gender'] == 'F':\n",
    "                count += 1\n",
    "    return count\n",
    "\n",
    "print(\"F-M edges\", F_M_edges(G) + M_F_edges(G))"
   ]
  },
  {
   "cell_type": "markdown",
   "metadata": {},
   "source": [
    "### 11. Given these counts as compared to the expected values, would you consider this evidence for or against a homophily bias in friendship relations among these highschoolers? Answer either For or Against.\n"
   ]
  },
  {
   "cell_type": "markdown",
   "metadata": {},
   "source": [
    "As the actual number of cross-gender edges is significantly less than 2pq as 762 is less than 868, then there is evidence for homophily"
   ]
  },
  {
   "cell_type": "markdown",
   "metadata": {},
   "source": [
    "## Section 2: club membership network"
   ]
  },
  {
   "cell_type": "code",
   "execution_count": 17,
   "metadata": {},
   "outputs": [
    {
     "name": "stdout",
     "output_type": "stream",
     "text": [
      "Name: \n",
      "Type: Graph\n",
      "Number of nodes: 40\n",
      "Number of edges: 95\n",
      "Average degree:   4.7500\n"
     ]
    },
    {
     "data": {
      "image/png": "[encoded data removed]",
      "text/plain": [
       "<Figure size 432x288 with 1 Axes>"
      ]
     },
     "metadata": {},
     "output_type": "display_data"
    }
   ],
   "source": [
    "B = nx.read_edgelist('data/club_membership.edgelist')\n",
    "print(nx.info(B))\n",
    "nx.draw(B)"
   ]
  },
  {
   "cell_type": "markdown",
   "metadata": {},
   "source": [
    "### 1. What is the mean number of organizational affiliations per person in the data set?"
   ]
  },
  {
   "cell_type": "code",
   "execution_count": 14,
   "metadata": {},
   "outputs": [
    {
     "name": "stdout",
     "output_type": "stream",
     "text": [
      "Mean number of organizational affiliations per person: 3.8\n"
     ]
    }
   ],
   "source": [
    "import statistics\n",
    "a = []\n",
    "for n in B.nodes():\n",
    "    if n[0]==\"p\":\n",
    "        count = 0\n",
    "        affiliations = B.neighbors(n)\n",
    "        for n in affiliations:\n",
    "            if n[0]==\"o\":\n",
    "                count += 1\n",
    "        a.append(count)\n",
    "print('Mean number of organizational affiliations per person:', statistics.mean(a))"
   ]
  },
  {
   "cell_type": "markdown",
   "metadata": {},
   "source": [
    "### 2. What is the mean number of members per organization?"
   ]
  },
  {
   "cell_type": "code",
   "execution_count": 15,
   "metadata": {},
   "outputs": [
    {
     "name": "stdout",
     "output_type": "stream",
     "text": [
      "Mean number of members per organization: 6.333333333333333\n"
     ]
    }
   ],
   "source": [
    "b = []\n",
    "for n in B.nodes():\n",
    "    if n[0]==\"o\":\n",
    "        count = 0\n",
    "        affiliations = B.neighbors(n)\n",
    "        for n in affiliations:\n",
    "            if n[0]==\"p\":\n",
    "                count += 1\n",
    "        b.append(count)\n",
    "print('Mean number of members per organization:', statistics.mean(b))"
   ]
  },
  {
   "cell_type": "markdown",
   "metadata": {},
   "source": [
    "### 3. Please define a similarity measure for two nodes in a graph based on how many neighbors they have in common divided by the total number of all neighbors (don't overcount common neighbors ) of the two nodes.\n",
    "Implement this similarity measure as a function that takes as arguments the graph and two nodes from the same \"side\" of the bipartite graph (i.e. two people or two organizations). Use set algebra to compute the similarity of their neighborhoods. In the tutorial 1 exercise 3Links to an external site., we have written a function that can help. The similarity function should return a value between 0 and 1."
   ]
  },
  {
   "cell_type": "code",
   "execution_count": 16,
   "metadata": {},
   "outputs": [],
   "source": [
    "def similarity(B, node_1, node_2):\n",
    "    common_neighbors = set(B.neighbors(node_1)).intersection(set(B.neighbors(node_2)))\n",
    "    total_neighbors = set(B.neighbors(node_1)).union(set(B.neighbors(node_2)))\n",
    "    return (node_1, node_2, len(common_neighbors)/len(total_neighbors))"
   ]
  },
  {
   "cell_type": "markdown",
   "metadata": {},
   "source": [
    "### 4. Which pair of people has the highest similarity?"
   ]
  },
  {
   "cell_type": "code",
   "execution_count": 17,
   "metadata": {},
   "outputs": [
    {
     "data": {
      "text/plain": [
       "('p22', 'p14', 0.8)"
      ]
     },
     "execution_count": 17,
     "metadata": {},
     "output_type": "execute_result"
    }
   ],
   "source": [
    "from itertools import combinations\n",
    "people = [n for n in B.nodes() if n[0]=='p'] \n",
    "pair_jaccard = [similarity(B, pair[0], pair[1]) for pair in combinations(people, 2)]\n",
    "max_jaccard_pairs = max(pair_jaccard, key=lambda x: x[2])\n",
    "max_jaccard_pairs"
   ]
  },
  {
   "cell_type": "markdown",
   "metadata": {},
   "source": [
    "### 5. What is the similarity value for this pair of people?"
   ]
  },
  {
   "cell_type": "code",
   "execution_count": 18,
   "metadata": {},
   "outputs": [
    {
     "data": {
      "text/plain": [
       "0.8"
      ]
     },
     "execution_count": 18,
     "metadata": {},
     "output_type": "execute_result"
    }
   ],
   "source": [
    "max_jaccard_pairs[2]"
   ]
  },
  {
   "cell_type": "markdown",
   "metadata": {},
   "source": [
    "### 6. Which pair of organizations has the most similar membership?"
   ]
  },
  {
   "cell_type": "code",
   "execution_count": 19,
   "metadata": {},
   "outputs": [
    {
     "data": {
      "text/plain": [
       "('o1', 'o5', 0.5238095238095238)"
      ]
     },
     "execution_count": 19,
     "metadata": {},
     "output_type": "execute_result"
    }
   ],
   "source": [
    "from itertools import combinations\n",
    "org = [n for n in B.nodes() if n[0]=='o']\n",
    "pair_jaccard = [similarity(B, pair[0], pair[1]) for pair in combinations(org, 2)]\n",
    "max_jaccard_pairs = max(pair_jaccard, key=lambda x: x[2])\n",
    "max_jaccard_pairs"
   ]
  },
  {
   "cell_type": "markdown",
   "metadata": {},
   "source": [
    "### 7. What is the similarity value for that pair of organizations?\n"
   ]
  },
  {
   "cell_type": "code",
   "execution_count": 20,
   "metadata": {},
   "outputs": [
    {
     "data": {
      "text/plain": [
       "0.5238095238095238"
      ]
     },
     "execution_count": 20,
     "metadata": {},
     "output_type": "execute_result"
    }
   ],
   "source": [
    "max_jaccard_pairs[2]"
   ]
  }
 ],
 "metadata": {
  "kernelspec": {
   "display_name": "Python 3",
   "language": "python",
   "name": "python3"
  },
  "language_info": {
   "codemirror_mode": {
    "name": "ipython",
    "version": 3
   },
   "file_extension": ".py",
   "mimetype": "text/x-python",
   "name": "python",
   "nbconvert_exporter": "python",
   "pygments_lexer": "ipython3",
   "version": "3.7.3"
  }
 },
 "nbformat": 4,
 "nbformat_minor": 2
}
