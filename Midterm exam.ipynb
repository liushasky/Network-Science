{
 "cells": [
  {
   "cell_type": "markdown",
   "metadata": {},
   "source": [
    "# Midterm \n",
    "# Sha Liu"
   ]
  },
  {
   "cell_type": "markdown",
   "metadata": {},
   "source": [
    "## Section 1"
   ]
  },
  {
   "cell_type": "markdown",
   "metadata": {},
   "source": [
    "In this section, we will use `openflights_usa.edges`. It is a network of air transportation in the US. You could find it in **Canvas** `Files/Datasets/folder`. \n",
    "\n"
   ]
  },
  {
   "cell_type": "code",
   "execution_count": 1,
   "metadata": {},
   "outputs": [],
   "source": [
    "%matplotlib inline\n",
    "import networkx as nx"
   ]
  },
  {
   "cell_type": "code",
   "execution_count": 2,
   "metadata": {},
   "outputs": [
    {
     "name": "stdout",
     "output_type": "stream",
     "text": [
      "Name: \n",
      "Type: Graph\n",
      "Number of nodes: 546\n",
      "Number of edges: 2781\n",
      "Average degree:  10.1868\n"
     ]
    },
    {
     "data": {
      "image/png": "[encoded data removed]",
      "text/plain": [
       "<Figure size 432x288 with 1 Axes>"
      ]
     },
     "metadata": {},
     "output_type": "display_data"
    }
   ],
   "source": [
    "G = nx.read_edgelist('data/openflights_usa.edges')\n",
    "print(nx.info(G))\n",
    "nx.draw(G)"
   ]
  },
  {
   "cell_type": "markdown",
   "metadata": {},
   "source": [
    "### Q1. Is the network a tree? Please respond by using exclusively the number of nodes and links. "
   ]
  },
  {
   "cell_type": "code",
   "execution_count": 3,
   "metadata": {},
   "outputs": [
    {
     "data": {
      "text/plain": [
       "False"
      ]
     },
     "execution_count": 3,
     "metadata": {},
     "output_type": "execute_result"
    }
   ],
   "source": [
    "nx.is_tree(G)"
   ]
  },
  {
   "cell_type": "markdown",
   "metadata": {},
   "source": [
    "This network is not a tree."
   ]
  },
  {
   "cell_type": "markdown",
   "metadata": {},
   "source": [
    "### Q2.  Which airports have the largest degree, betweenness and clustering coefficient respectively?\n",
    "\n"
   ]
  },
  {
   "cell_type": "code",
   "execution_count": 4,
   "metadata": {},
   "outputs": [
    {
     "name": "stdout",
     "output_type": "stream",
     "text": [
      "The airport has the largest degree is ATL\n"
     ]
    }
   ],
   "source": [
    "highest_degree_node = max(G.nodes, key=G.degree)\n",
    "print(\"The airport has the largest degree is\", highest_degree_node)"
   ]
  },
  {
   "cell_type": "code",
   "execution_count": 5,
   "metadata": {},
   "outputs": [
    {
     "name": "stdout",
     "output_type": "stream",
     "text": [
      "The airport has the largest betweenness is ANC\n"
     ]
    }
   ],
   "source": [
    "betweenness = nx.centrality.betweenness_centrality(G)\n",
    "highest_betweenness_node = max(G.nodes, key=betweenness.get)\n",
    "print(\"The airport has the largest betweenness is\", highest_betweenness_node)"
   ]
  },
  {
   "cell_type": "code",
   "execution_count": 6,
   "metadata": {},
   "outputs": [
    {
     "name": "stdout",
     "output_type": "stream",
     "text": [
      "The airport has the largest clustering coefficient is MFR\n"
     ]
    }
   ],
   "source": [
    "clustering_coe = nx.clustering(G)\n",
    "highest_clustering_node = max(G.nodes, key = clustering_coe.get)\n",
    "print(\"The airport has the largest clustering coefficient is\", highest_clustering_node)"
   ]
  },
  {
   "cell_type": "markdown",
   "metadata": {},
   "source": [
    "### Q3. Which link has the largest neighborhood overlap? Please use the measure introduced when we discussed Granovetter's principle.\n",
    "\n"
   ]
  },
  {
   "cell_type": "code",
   "execution_count": 7,
   "metadata": {},
   "outputs": [],
   "source": [
    "# Based on Granovetter's principle, neighborhood overlap of A and B is calculated by \n",
    "# the number of shared neighbors of A and B divide by number of neighbirs of at least one of A or B\n",
    "# Define neighborhood overlap\n",
    "\n",
    "def neighborhood_overlap(G, u, v):\n",
    "    common_neighbors = set(G.neighbors(u)).intersection(set(G.neighbors(v)))\n",
    "    total_neighbors = set(G.neighbors(u)).union(set(G.neighbors(v)))\n",
    "    if u in total_neighbors and v in total_neighbors:\n",
    "        total_neighbors.remove(u)\n",
    "        total_neighbors.remove(v)\n",
    "    return (u, v, len(common_neighbors)/(len(total_neighbors)))"
   ]
  },
  {
   "cell_type": "code",
   "execution_count": 8,
   "metadata": {},
   "outputs": [
    {
     "name": "stdout",
     "output_type": "stream",
     "text": [
      "The link has the largest neighborhood overlap and its neighborhood overlap value are ('RDD', 'CIC', 1.0)\n"
     ]
    }
   ],
   "source": [
    "from itertools import combinations\n",
    "nodes = [n for n in G.nodes()] \n",
    "pair_jaccard = [neighborhood_overlap(G, pair[0], pair[1]) for pair in combinations(nodes, 2)]\n",
    "max_jaccard_pairs = max(pair_jaccard, key=lambda x: x[2])\n",
    "print(\"The link has the largest neighborhood overlap and its neighborhood overlap value are\",max_jaccard_pairs)"
   ]
  },
  {
   "cell_type": "markdown",
   "metadata": {},
   "source": [
    "### Q4. Verify the friendship paradox holds for this network\n",
    "\n"
   ]
  },
  {
   "cell_type": "markdown",
   "metadata": {},
   "source": [
    "Firstly, we calcuate the average number of friends an individual has, namely the average degree of the network ; and then we get the average amount of friends of a friend of the individual, in other words, the average degree of the neighbor nodes. Finally, the second value should be no less than the first value."
   ]
  },
  {
   "cell_type": "code",
   "execution_count": 9,
   "metadata": {},
   "outputs": [
    {
     "name": "stdout",
     "output_type": "stream",
     "text": [
      "The average degree of network is 10.186813186813186\n",
      "the average degree of the neighbor nodes is 64.04614431282478\n"
     ]
    }
   ],
   "source": [
    "import statistics\n",
    "degree_sequence = [G.degree(n) for n in G.nodes]\n",
    "\n",
    "mean_deg = statistics.mean(degree_sequence)\n",
    "avg_neigh_deg = 0\n",
    "for node in G.nodes():\n",
    "    neigh_deg = 0\n",
    "    for neigh in G.neighbors(node):\n",
    "        neigh_deg += (G.degree(neigh))\n",
    "    avg_neigh_deg += (neigh_deg/len(list(G.neighbors(node))))\n",
    "avg_neigh_deg = avg_neigh_deg/len(G.nodes)\n",
    "print(f'The average degree of network is {mean_deg}')\n",
    "print(f'the average degree of the neighbor nodes is {avg_neigh_deg}')"
   ]
  },
  {
   "cell_type": "markdown",
   "metadata": {},
   "source": [
    "The average degree of neighbor nodes is larger than average degree of the network, so it verified that the firenship paradox holds for this network"
   ]
  },
  {
   "cell_type": "markdown",
   "metadata": {},
   "source": [
    "### Q5. Compute the robustness plots for this network for the cases of attacks based on degree, clustering coefficient and betweenness. Which of the three strategies is the most effective to disrupt the network?\n",
    "hint:\n",
    "1. you will need to show one plot including three curves corresponding to attacks based on degree, clustering coefficient and betweenness. \n",
    "2. compare the three and select the most effective strategy. \n",
    "\n",
    "\n"
   ]
  },
  {
   "cell_type": "code",
   "execution_count": 10,
   "metadata": {},
   "outputs": [],
   "source": [
    "# 1. Attacks based on degree\n",
    "\n",
    "N = G.number_of_nodes()\n",
    "number_of_steps = 25\n",
    "M = N // number_of_steps\n",
    "\n",
    "num_nodes_removed_1 = range(0, N, M)\n",
    "C = G.copy()\n",
    "targeted_attack_core_proportions_1 = []\n",
    "for nodes_removed in num_nodes_removed_1:\n",
    "    # Measure the relative size of the network core\n",
    "    core = next(nx.connected_components(C))\n",
    "    core_proportion = len(core) / N\n",
    "    targeted_attack_core_proportions_1.append(core_proportion)\n",
    "    \n",
    "    # If there are more than M nodes, select top M nodes and remove them\n",
    "    if C.number_of_nodes() > M:\n",
    "        nodes_sorted_by_degree = sorted(C.nodes, key=C.degree, reverse=True)\n",
    "        nodes_to_remove = nodes_sorted_by_degree[:M]\n",
    "        C.remove_nodes_from(nodes_to_remove)"
   ]
  },
  {
   "cell_type": "code",
   "execution_count": 11,
   "metadata": {},
   "outputs": [],
   "source": [
    "# 2. Attacks based on clustering coefficient\n",
    "\n",
    "N = G.number_of_nodes()\n",
    "number_of_steps = 25\n",
    "M = N // number_of_steps\n",
    "\n",
    "num_nodes_removed_2 = range(0, N, M)\n",
    "C = G.copy()\n",
    "targeted_attack_core_proportions_2 = []\n",
    "for nodes_removed in num_nodes_removed_2:\n",
    "    # Measure the relative size of the network core\n",
    "    core = next(nx.connected_components(C))\n",
    "    core_proportion = len(core) / N\n",
    "    targeted_attack_core_proportions_2.append(core_proportion)\n",
    "    \n",
    "    # If there are more than M nodes, select top M nodes and remove them\n",
    "    if C.number_of_nodes() > M:\n",
    "        clustering_coe = nx.clustering(G)\n",
    "        nodes_sorted_by_clustering_coefficient = sorted(C.nodes, key=clustering_coe.get, reverse=True)\n",
    "        nodes_to_remove = nodes_sorted_by_clustering_coefficient[:M]\n",
    "        C.remove_nodes_from(nodes_to_remove)"
   ]
  },
  {
   "cell_type": "code",
   "execution_count": 12,
   "metadata": {},
   "outputs": [],
   "source": [
    "# 3. Attacks based betweenness\n",
    "\n",
    "N = G.number_of_nodes()\n",
    "number_of_steps = 25\n",
    "M = N // number_of_steps\n",
    "\n",
    "num_nodes_removed_3 = range(0, N, M)\n",
    "C = G.copy()\n",
    "targeted_attack_core_proportions_3 = []\n",
    "for nodes_removed in num_nodes_removed_3:\n",
    "    # Measure the relative size of the network core\n",
    "    core = next(nx.connected_components(C))\n",
    "    core_proportion = len(core) / N\n",
    "    targeted_attack_core_proportions_3.append(core_proportion)\n",
    "    \n",
    "    # If there are more than M nodes, select top M nodes and remove them\n",
    "    if C.number_of_nodes() > M:\n",
    "        betweenness = nx.centrality.betweenness_centrality(G)\n",
    "        nodes_sorted_by_betweenness = sorted(C.nodes, key=betweenness.get, reverse=True)\n",
    "        nodes_to_remove = nodes_sorted_by_betweenness[:M]\n",
    "        C.remove_nodes_from(nodes_to_remove)"
   ]
  },
  {
   "cell_type": "code",
   "execution_count": 13,
   "metadata": {},
   "outputs": [
    {
     "data": {
      "text/plain": [
       "<matplotlib.legend.Legend at 0x7fec5c504c18>"
      ]
     },
     "execution_count": 13,
     "metadata": {},
     "output_type": "execute_result"
    },
    {
     "data": {
      "image/png": "[encoded data removed]",
      "text/plain": [
       "<Figure size 432x288 with 1 Axes>"
      ]
     },
     "metadata": {
      "needs_background": "light"
     },
     "output_type": "display_data"
    }
   ],
   "source": [
    "import matplotlib.pyplot as plt\n",
    "\n",
    "plt.title('Targeted attack')\n",
    "plt.xlabel('Number of nodes removed')\n",
    "plt.ylabel('Proportion of nodes in core')\n",
    "plt.plot(num_nodes_removed_1, targeted_attack_core_proportions_1, marker='^', label='Degree Attacks')\n",
    "plt.plot(num_nodes_removed_2, targeted_attack_core_proportions_2, marker='*', label='Clustering Coefficient Attacks')\n",
    "plt.plot(num_nodes_removed_3, targeted_attack_core_proportions_3, marker='o', label='Betweenness Attacks')\n",
    "plt.legend()"
   ]
  },
  {
   "cell_type": "markdown",
   "metadata": {},
   "source": [
    "Based on the graph above, we can see that targeted attackes based on degree is the most effective method."
   ]
  },
  {
   "cell_type": "markdown",
   "metadata": {},
   "source": [
    "## Section 2"
   ]
  },
  {
   "cell_type": "markdown",
   "metadata": {},
   "source": [
    "In this section, please load `retweet-digraph.edges` from **Canvas** `Files/Datasets`. Please read it as a directed and weighted network.   \n",
    "\n"
   ]
  },
  {
   "cell_type": "markdown",
   "metadata": {},
   "source": [
    "### Q6. Plot the in-degree and the out-degree distributions"
   ]
  },
  {
   "cell_type": "code",
   "execution_count": 14,
   "metadata": {},
   "outputs": [
    {
     "name": "stdout",
     "output_type": "stream",
     "text": [
      "Name: \n",
      "Type: DiGraph\n",
      "Number of nodes: 18470\n",
      "Number of edges: 48365\n",
      "Average in degree:   2.6186\n",
      "Average out degree:   2.6186\n"
     ]
    }
   ],
   "source": [
    "G = nx.read_weighted_edgelist('data/retweet-digraph.edges',create_using=nx.DiGraph)\n",
    "print(nx.info(G))"
   ]
  },
  {
   "cell_type": "code",
   "execution_count": 15,
   "metadata": {},
   "outputs": [
    {
     "data": {
      "text/plain": [
       "Text(0, 0.5, 'Count')"
      ]
     },
     "execution_count": 15,
     "metadata": {},
     "output_type": "execute_result"
    },
    {
     "data": {
      "image/png": "[encoded data removed]",
      "text/plain": [
       "<Figure size 432x288 with 1 Axes>"
      ]
     },
     "metadata": {
      "needs_background": "light"
     },
     "output_type": "display_data"
    }
   ],
   "source": [
    "# Plot the in-degree distribution\n",
    "\n",
    "from collections import Counter\n",
    "in_degree_sequence = [G.in_degree(n) for n in G.nodes]\n",
    "in_degree_counts = Counter(in_degree_sequence)\n",
    "plt.bar(in_degree_counts.keys(), in_degree_counts.values())\n",
    "plt.title('In-degree Distribution')\n",
    "plt.xlabel('In-degree')\n",
    "plt.ylabel('Count')"
   ]
  },
  {
   "cell_type": "code",
   "execution_count": 16,
   "metadata": {},
   "outputs": [
    {
     "data": {
      "text/plain": [
       "Text(0, 0.5, 'Count')"
      ]
     },
     "execution_count": 16,
     "metadata": {},
     "output_type": "execute_result"
    },
    {
     "data": {
      "image/png": "[encoded data removed]",
      "text/plain": [
       "<Figure size 432x288 with 1 Axes>"
      ]
     },
     "metadata": {
      "needs_background": "light"
     },
     "output_type": "display_data"
    }
   ],
   "source": [
    "# Plot the out-degree distribution\n",
    "\n",
    "out_degree_sequence = [G.out_degree(n) for n in G.nodes]\n",
    "out_degree_counts = Counter(out_degree_sequence)\n",
    "plt.bar(out_degree_counts.keys(), out_degree_counts.values())\n",
    "plt.title('Out-degree Distribution')\n",
    "plt.xlabel('Out-degree')\n",
    "plt.ylabel('Count')"
   ]
  },
  {
   "cell_type": "markdown",
   "metadata": {},
   "source": [
    "### Q7.  What is the heterogeneity parameter for the in-degree and the out-degree distributions? Which distribution is more heterogeneous?\n",
    "\n"
   ]
  },
  {
   "cell_type": "code",
   "execution_count": 17,
   "metadata": {},
   "outputs": [
    {
     "name": "stdout",
     "output_type": "stream",
     "text": [
      "The heterogeneity parameter for the in-degree distributions is 8.298195705450587\n"
     ]
    }
   ],
   "source": [
    "# Per fomuala listed in Slides Feb18-23 page 36, heterogeneity parameter is calculated as below:\n",
    "\n",
    "# First, get the mean of in-degree\n",
    "mean_in_degree = statistics.mean(in_degree_sequence)\n",
    "\n",
    "# Secondly, get the sum of the squared in-degrees and then take the average\n",
    "squared_in_degree = []\n",
    "for i in in_degree_sequence:\n",
    "    sq = i**2\n",
    "    squared_in_degree.append(sq)\n",
    "avg_squared_in_degree = sum(squared_in_degree)/len(in_degree_sequence)\n",
    "avg_squared_in_degree\n",
    "\n",
    "# Finally, divided the mean degree by average squared in-degree\n",
    "in_degree_heterogeneity_parameter = avg_squared_in_degree/(mean_in_degree**2)\n",
    "print(\"The heterogeneity parameter for the in-degree distributions is\", in_degree_heterogeneity_parameter)"
   ]
  },
  {
   "cell_type": "code",
   "execution_count": 18,
   "metadata": {},
   "outputs": [
    {
     "name": "stdout",
     "output_type": "stream",
     "text": [
      "The heterogeneity parameter for the out-degree distributions is 31.02230399802904\n"
     ]
    }
   ],
   "source": [
    "# First, get the mean of out-degree\n",
    "mean_out_degree = statistics.mean(out_degree_sequence)\n",
    "\n",
    "# Secondly, get the sum of the squared out-degrees and then take the average\n",
    "squared_out_degree = []\n",
    "for i in out_degree_sequence:\n",
    "    sq = i**2\n",
    "    squared_out_degree.append(sq)\n",
    "avg_squared_out_degree = sum(squared_out_degree)/len(out_degree_sequence)\n",
    "avg_squared_out_degree\n",
    "\n",
    "# Finally, divided the mean degree by average squared out-degree\n",
    "out_degree_heterogeneity_parameter = avg_squared_out_degree/(mean_out_degree**2)\n",
    "print(\"The heterogeneity parameter for the out-degree distributions is\", out_degree_heterogeneity_parameter)"
   ]
  },
  {
   "cell_type": "markdown",
   "metadata": {},
   "source": [
    "Therefore, the heterogeneity parameter for the out-degree distributions is more heterogeneous as it is larger."
   ]
  },
  {
   "cell_type": "markdown",
   "metadata": {},
   "source": [
    "### Q8. Plot the in-strength and out-strength distributions"
   ]
  },
  {
   "cell_type": "code",
   "execution_count": 19,
   "metadata": {},
   "outputs": [
    {
     "data": {
      "text/plain": [
       "Text(0, 0.5, 'Count')"
      ]
     },
     "execution_count": 19,
     "metadata": {},
     "output_type": "execute_result"
    },
    {
     "data": {
      "image/png": "[encoded data removed]",
      "text/plain": [
       "<Figure size 432x288 with 1 Axes>"
      ]
     },
     "metadata": {
      "needs_background": "light"
     },
     "output_type": "display_data"
    }
   ],
   "source": [
    "# Plot in-strength distribution\n",
    "\n",
    "in_strength_list = []\n",
    "for i in G.nodes:\n",
    "    in_strength = G.in_degree(i, weight = 'weight')\n",
    "    in_strength_list.append(in_strength)\n",
    "in_strength_counts = Counter(in_strength_list)\n",
    "\n",
    "plt.bar(in_strength_counts.keys(), in_strength_counts.values())\n",
    "plt.title('In-strength Distribution')\n",
    "plt.xlabel('In-Strength')\n",
    "plt.ylabel('Count')"
   ]
  },
  {
   "cell_type": "code",
   "execution_count": 20,
   "metadata": {},
   "outputs": [
    {
     "data": {
      "text/plain": [
       "Text(0, 0.5, 'Count')"
      ]
     },
     "execution_count": 20,
     "metadata": {},
     "output_type": "execute_result"
    },
    {
     "data": {
      "image/png": "[encoded data removed]",
      "text/plain": [
       "<Figure size 432x288 with 1 Axes>"
      ]
     },
     "metadata": {
      "needs_background": "light"
     },
     "output_type": "display_data"
    }
   ],
   "source": [
    "# Plot out-strength distribution\n",
    "\n",
    "out_strength_list = []\n",
    "for i in G.nodes:\n",
    "    out_strength = G.out_degree(i, weight = 'weight')\n",
    "    out_strength_list.append(out_strength)\n",
    "out_strength_counts = Counter(out_strength_list)\n",
    "\n",
    "plt.bar(out_strength_counts.keys(), out_strength_counts.values())\n",
    "plt.title('Out-strength Distribution')\n",
    "plt.xlabel('Out-Strength')\n",
    "plt.ylabel('Count')"
   ]
  },
  {
   "cell_type": "markdown",
   "metadata": {},
   "source": [
    "### Q9.  Pearson correlation between the in-degree and the PageRank of (all) nodes\n",
    "\n"
   ]
  },
  {
   "cell_type": "code",
   "execution_count": 21,
   "metadata": {},
   "outputs": [
    {
     "name": "stdout",
     "output_type": "stream",
     "text": [
      "Pearson correlation between the in-degree and the PageRank of (all) nodes is 0.8337955545635974\n"
     ]
    }
   ],
   "source": [
    "import scipy.stats\n",
    "PR_dict = nx.pagerank(G)\n",
    "\n",
    "# PageRank list\n",
    "PR_sequence = list(PR_dict.values())\n",
    "\n",
    "# In-degree list\n",
    "in_degree_sequence = [G.in_degree(n) for n in G.nodes]\n",
    "\n",
    "print(\"Pearson correlation between the in-degree and the PageRank of (all) nodes is\", scipy.stats.pearsonr(in_degree_sequence, PR_sequence)[0])"
   ]
  },
  {
   "cell_type": "markdown",
   "metadata": {},
   "source": [
    "## Section 3"
   ]
  },
  {
   "cell_type": "markdown",
   "metadata": {},
   "source": [
    "Please load the dataset `karate_club.graphml` from **Canvas** `Files/Datasets`. Each node in this graph has a 'club' attribute, indicating whether the member followed the instructor (Mr. Hi) or the president (Officer).  \n",
    "\n",
    "\n",
    "\n",
    "\n"
   ]
  },
  {
   "cell_type": "markdown",
   "metadata": {},
   "source": [
    "### Q10. Compute the expected number of links between members of the two groups and within each group, if links can be placed at random\n",
    "\n"
   ]
  },
  {
   "cell_type": "code",
   "execution_count": 22,
   "metadata": {
    "scrolled": true
   },
   "outputs": [
    {
     "name": "stdout",
     "output_type": "stream",
     "text": [
      "Name: Zachary's Karate Club\n",
      "Type: Graph\n",
      "Number of nodes: 34\n",
      "Number of edges: 78\n",
      "Average degree:   4.5882\n"
     ]
    },
    {
     "data": {
      "image/png": "[encoded data removed]",
      "text/plain": [
       "<Figure size 432x288 with 1 Axes>"
      ]
     },
     "metadata": {},
     "output_type": "display_data"
    }
   ],
   "source": [
    "G = nx.read_graphml('data/karate_club.graphml')\n",
    "print(nx.info(G))\n",
    "nx.draw(G)"
   ]
  },
  {
   "cell_type": "code",
   "execution_count": 23,
   "metadata": {},
   "outputs": [
    {
     "name": "stdout",
     "output_type": "stream",
     "text": [
      "Instructor proportion is 0.5\n",
      "President proportion is 0.5\n"
     ]
    }
   ],
   "source": [
    "# First, we compute the each club's proportion\n",
    "\n",
    "def instructor_percent(G):\n",
    "    instructor = 0\n",
    "    for n in G.nodes:\n",
    "        if G.nodes[n]['club'] == 'Mr. Hi':\n",
    "            instructor += 1\n",
    "    return instructor/G.number_of_nodes()\n",
    "\n",
    "print(\"Instructor proportion is\", instructor_percent(G))\n",
    "\n",
    "def president_percent(G):\n",
    "    president = 0\n",
    "    for n in G.nodes:\n",
    "        if G.nodes[n]['club'] == 'Officer':\n",
    "            president += 1\n",
    "    return president/G.number_of_nodes()\n",
    "\n",
    "print(\"President proportion is\", president_percent(G))"
   ]
  },
  {
   "cell_type": "code",
   "execution_count": 24,
   "metadata": {},
   "outputs": [
    {
     "name": "stdout",
     "output_type": "stream",
     "text": [
      "The expexted instructor-instructor edges are 20\n",
      "The expexted president-president edges are 20\n",
      "The expexted president-instructor edges are 39\n"
     ]
    }
   ],
   "source": [
    "# If the links can be placed at random:\n",
    "\n",
    "# Then we compute how many instructor-instructor edges would we expect\n",
    "print(\"The expexted instructor-instructor edges are\", int(round((instructor_percent(G)**2) * G.number_of_edges())))\n",
    "\n",
    "# Then we compute how many president-president edges would we expect\n",
    "print(\"The expexted president-president edges are\", int(round((president_percent(G)**2) * G.number_of_edges())))\n",
    "\n",
    "# Then we compute how many instructor-president edges would we expect\n",
    "print(\"The expexted president-instructor edges are\", int(round((president_percent(G)*instructor_percent(G)*2*G.number_of_edges()))))"
   ]
  },
  {
   "cell_type": "markdown",
   "metadata": {},
   "source": [
    "### Q11. Compute the actual number of edges between and within the groups,  and state whether there is evidence of homophily\n",
    "\n"
   ]
  },
  {
   "cell_type": "code",
   "execution_count": 25,
   "metadata": {},
   "outputs": [
    {
     "name": "stdout",
     "output_type": "stream",
     "text": [
      "The actual instructor-instructor edges are 35\n",
      "The actual president-president edges are 32\n",
      "The actual president-officer edges are 11\n"
     ]
    }
   ],
   "source": [
    "# Firstly, we compute the actual number of instructor-instructor edges\n",
    "def instructor_instructor_edges(G):\n",
    "    count = 0\n",
    "    for u, v in G.edges:\n",
    "        if G.nodes[u]['club'] == 'Mr. Hi'and G.nodes[v]['club'] == 'Mr. Hi':\n",
    "                count += 1\n",
    "    return count\n",
    "print(\"The actual instructor-instructor edges are\", instructor_instructor_edges(G))\n",
    "\n",
    "# Secondly, we compute the actual number of president-president edges\n",
    "def president_president_edges(G):\n",
    "    count = 0\n",
    "    for u, v in G.edges:\n",
    "        if G.nodes[u]['club'] == 'Officer'and G.nodes[v]['club'] == 'Officer':\n",
    "                count += 1\n",
    "    return count\n",
    "print(\"The actual president-president edges are\", president_president_edges(G))\n",
    "\n",
    "# Finally, we compute the actual number of president-officer edges\n",
    "def president_officer_edges(G):\n",
    "    count = 0\n",
    "    for u, v in G.edges:\n",
    "        if (G.nodes[u]['club'] == 'Officer'and G.nodes[v]['club'] == 'Mr. Hi') or (G.nodes[u]['club'] == 'Mr. Hi'and G.nodes[v]['club'] == 'Officer'):\n",
    "                count += 1\n",
    "    return count\n",
    "print(\"The actual president-officer edges are\", president_officer_edges(G))"
   ]
  },
  {
   "cell_type": "markdown",
   "metadata": {},
   "source": [
    "The actual number of president-instructor edges is significantly less than the expected president-instructor edges (2pq) as 11 is less than 39, therefore there is evidence of homophily."
   ]
  }
 ],
 "metadata": {
  "kernelspec": {
   "display_name": "Python 3",
   "language": "python",
   "name": "python3"
  },
  "language_info": {
   "codemirror_mode": {
    "name": "ipython",
    "version": 3
   },
   "file_extension": ".py",
   "mimetype": "text/x-python",
   "name": "python",
   "nbconvert_exporter": "python",
   "pygments_lexer": "ipython3",
   "version": "3.7.3"
  }
 },
 "nbformat": 4,
 "nbformat_minor": 4
}
